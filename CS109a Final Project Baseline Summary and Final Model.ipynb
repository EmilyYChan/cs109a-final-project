{
 "cells": [
  {
   "cell_type": "code",
   "execution_count": 1,
   "metadata": {},
   "outputs": [],
   "source": [
    "# import necessary libraries\n",
    "%matplotlib inline\n",
    "import numpy as np\n",
    "import matplotlib.cm as cm\n",
    "import matplotlib.pyplot as plt\n",
    "import pandas as pd\n",
    "pd.set_option('display.width', 500)\n",
    "pd.set_option('display.max_columns', 100)\n",
    "pd.set_option('display.notebook_repr_html', True)\n",
    "import seaborn as sns\n",
    "from functools import reduce\n",
    "import string\n",
    "import operator\n",
    "from operator import itemgetter \n",
    "import pickle\n",
    "import tensorflow as tf\n",
    "from tensorflow import keras\n",
    "from tensorflow.keras.layers import Input, Embedding, Dot, Reshape, Dense, Concatenate\n",
    "from tensorflow.keras.models import Model\n",
    "from sklearn.model_selection import train_test_split\n",
    "import spotipy\n",
    "import spotipy.util as util\n",
    "from spotipy.oauth2 import SpotifyClientCredentials\n",
    "import spotipy.oauth2 as oauth2\n",
    "from tensorflow.keras.models import model_from_json\n",
    "np.random.seed(100)\n",
    "import random\n",
    "\n",
    "\n",
    "market = [ \"AD\", \"AR\", \"AT\", \"AU\", \"BE\", \"BG\", \"BO\", \"BR\", \"CA\", \"CH\", \"CL\", \"CO\", \"CR\", \"CY\", \n",
    "      \"CZ\", \"DE\", \"DK\", \"DO\", \"EC\", \"EE\", \"ES\", \"FI\", \"FR\", \"GB\", \"GR\", \"GT\", \"HK\", \"HN\", \"HU\", \n",
    "      \"ID\", \"IE\", \"IS\", \"IT\", \"JP\", \"LI\", \"LT\", \"LU\", \"LV\", \"MC\", \"MT\", \"MX\", \"MY\", \"NI\", \"NL\", \n",
    "      \"NO\", \"NZ\", \"PA\", \"PE\", \"PH\", \"PL\", \"PT\", \"PY\", \"SE\", \"SG\", \"SK\", \"SV\", \"TH\", \"TR\", \"TW\", \n",
    "      \"US\", \"UY\", \"VN\" ]\n",
    "\n",
    "CLIENT_ID = \"bccb28dd24804ecc912efc88806eba38\"\n",
    "CLIENT_SECRET = \"e795231413554786934e6a6209106e8d\"\n",
    "\n",
    "credentials = oauth2.SpotifyClientCredentials(\n",
    "        client_id=CLIENT_ID,\n",
    "        client_secret=CLIENT_SECRET)\n",
    "\n",
    "token = credentials.get_access_token()\n",
    "spotify = spotipy.Spotify(auth=token)"
   ]
  },
  {
   "cell_type": "markdown",
   "metadata": {},
   "source": [
    "## Spotify Million Playlist Dataset- Initial EDA from Milestone 3\n",
    "\n",
    "We read in 100 of the 1000 playlists, each with around 65000 songs, and performed some initial EDA. We first look at the number of songs per playlist for the 100 playlists. We then analyze the distribution of song durations, by playlist, both as a series of boxplots and as overlayed histograms. We then look at the distributions of overall repetitions of songs, artists, and albums in the combined playlists dataframe. We also look at the distribution of number of songs per album. Finally, we viewed the top 100 artists and top 100 albums, selected by overall frequency in the combined playlists.\n",
    "\n",
    "The most interesting thing we noticed about the dataset through initial EDA was each playlist was extremely long, leading us to wonder whether these playlists were made by individuals or not. Through EDA it seems that song duration isn't particularly important, so it seems the main way in which this dataset will be useful to us is through its grouping of songs into playlist, which hopefully indicates that the songs that are in one playlist are all liked by people who share that particular taste in music"
   ]
  },
  {
   "cell_type": "code",
   "execution_count": 2,
   "metadata": {},
   "outputs": [],
   "source": [
    "with open('playlists.pickle', 'rb') as f:\n",
    "    playlists = pickle.load(f)"
   ]
  },
  {
   "cell_type": "code",
   "execution_count": 3,
   "metadata": {},
   "outputs": [],
   "source": [
    "# merge playlists\n",
    "all_songs = pd.DataFrame()\n",
    "for i, pl in enumerate(playlists):\n",
    "    pl['playlist_id'] = i\n",
    "all_songs = pd.concat(playlists)"
   ]
  },
  {
   "cell_type": "code",
   "execution_count": 4,
   "metadata": {},
   "outputs": [
    {
     "data": {
      "text/plain": [
       "Index(['pid', 'pos', 'artist_name', 'track_uri', 'artist_uri', 'track_name', 'album_uri', 'duration_ms', 'album_name', 'playlist_id'], dtype='object')"
      ]
     },
     "execution_count": 4,
     "metadata": {},
     "output_type": "execute_result"
    }
   ],
   "source": [
    "all_songs.columns"
   ]
  },
  {
   "cell_type": "code",
   "execution_count": 5,
   "metadata": {},
   "outputs": [
    {
     "data": {
      "text/plain": [
       "count    484279.000000\n",
       "mean         13.789159\n",
       "std          88.013276\n",
       "min           1.000000\n",
       "25%           1.000000\n",
       "50%           1.000000\n",
       "75%           4.000000\n",
       "max        6844.000000\n",
       "Name: track_name, dtype: float64"
      ]
     },
     "execution_count": 5,
     "metadata": {},
     "output_type": "execute_result"
    }
   ],
   "source": [
    "# distribution of number of repetitions per song\n",
    "all_songs['track_name'].value_counts().describe()"
   ]
  },
  {
   "cell_type": "code",
   "execution_count": 6,
   "metadata": {},
   "outputs": [
    {
     "data": {
      "text/plain": [
       "count    108091.000000\n",
       "mean         61.779427\n",
       "std         632.511007\n",
       "min           1.000000\n",
       "25%           1.000000\n",
       "50%           2.000000\n",
       "75%           9.000000\n",
       "max       82460.000000\n",
       "Name: artist_name, dtype: float64"
      ]
     },
     "execution_count": 6,
     "metadata": {},
     "output_type": "execute_result"
    }
   ],
   "source": [
    "# distribution of number of repetitions per song\n",
    "all_songs['artist_name'].value_counts().describe()"
   ]
  },
  {
   "cell_type": "code",
   "execution_count": 7,
   "metadata": {},
   "outputs": [
    {
     "data": {
      "text/plain": [
       "count    218621.000000\n",
       "mean         30.545099\n",
       "std         234.269590\n",
       "min           1.000000\n",
       "25%           1.000000\n",
       "50%           2.000000\n",
       "75%           8.000000\n",
       "max       20342.000000\n",
       "Name: album_name, dtype: float64"
      ]
     },
     "execution_count": 7,
     "metadata": {},
     "output_type": "execute_result"
    }
   ],
   "source": [
    "# distribution of number of repetitions per album\n",
    "all_songs['album_name'].value_counts().describe()"
   ]
  },
  {
   "cell_type": "code",
   "execution_count": 8,
   "metadata": {},
   "outputs": [],
   "source": [
    "top_10_artists = all_songs['artist_name'].value_counts().nlargest(10)"
   ]
  },
  {
   "cell_type": "code",
   "execution_count": 9,
   "metadata": {},
   "outputs": [
    {
     "data": {
      "text/plain": [
       "Text(0, 0.5, 'Artist Name')"
      ]
     },
     "execution_count": 9,
     "metadata": {},
     "output_type": "execute_result"
    },
    {
     "data": {
      "image/png": "[encoded data removed]",
      "text/plain": [
       "<Figure size 720x720 with 1 Axes>"
      ]
     },
     "metadata": {
      "needs_background": "light"
     },
     "output_type": "display_data"
    }
   ],
   "source": [
    "plt.figure(figsize=(10, 10))\n",
    "ax = sns.barplot(x=top_10_artists, y=top_10_artists.index)\n",
    "ax.set_title('Top 100 Artists (by Total Number of Songs Included)')\n",
    "ax.set_xlabel(\"Frequency\")\n",
    "ax.set_ylabel('Artist Name')\n"
   ]
  },
  {
   "cell_type": "markdown",
   "metadata": {},
   "source": [
    "## Spotify API\n",
    "The Spotify API offers a lot of information that we could potentially use, and we decided to explore its functionality by looking at visual representations of some of the attributes of songs that we thought might be most important for predicting music taste, on a random sample of 30 songs."
   ]
  },
  {
   "cell_type": "code",
   "execution_count": 10,
   "metadata": {},
   "outputs": [
    {
     "data": {
      "text/plain": [
       "['5KY7zgFeH2GWoL1zP9mME6',\n",
       " '5wQnmLuC1W7ATsArWACrgW',\n",
       " '5sdYtv8t8dWGCPaSqYJkY4',\n",
       " '2bjwRfXMk4uRgOD9IBYl9h',\n",
       " '1HCw8XKtTgWWU3JlEUR0qQ',\n",
       " '0d28khcov6AiegSCpG5TuT',\n",
       " '6VixoRqnikN4QqegoKUSbH',\n",
       " '5rgrBsAFYMun6yhtnLKRPz',\n",
       " '7vtuYSHkY01YTT5djvKQZw',\n",
       " '30ST8wGrUm3puztIO4wFV2']"
      ]
     },
     "execution_count": 10,
     "metadata": {},
     "output_type": "execute_result"
    }
   ],
   "source": [
    "#randomly collect 10 song uris for analysis\n",
    "random_seed = 109\n",
    "np.random.seed(random_seed)\n",
    "sample_songs = all_songs.sample(n = 10)\n",
    "rand_ids = [track[14:] for track in sample_songs.track_uri]\n",
    "rand_ids"
   ]
  },
  {
   "cell_type": "code",
   "execution_count": 11,
   "metadata": {},
   "outputs": [
    {
     "data": {
      "image/png": "[encoded data removed]",
      "text/plain": [
       "<Figure size 1440x1440 with 9 Axes>"
      ]
     },
     "metadata": {
      "needs_background": "light"
     },
     "output_type": "display_data"
    }
   ],
   "source": [
    "random_seed = 109\n",
    "np.random.seed(random_seed)\n",
    "sample_songs = all_songs.sample(n = 10)\n",
    "rand_ids = [track[14:] for track in sample_songs.track_uri]\n",
    "\n",
    "# plot of 10 randomly chosen songs' features\n",
    "info = spotify.audio_features(rand_ids)\n",
    "features = [\"danceability\", \"energy\", \"acousticness\", \"instrumentalness\", \"valence\", \"speechiness\", \"liveness\", \"tempo\", \"loudness\"]\n",
    "fig, axs = plt.subplots(3,3, figsize = (20,20))\n",
    "for i, ax in enumerate(axs.ravel()):\n",
    "    ax.scatter(np.arange(0, 10), [track[features[i]] for track in info])\n",
    "    ax.set_title(features[i])\n",
    "    ax.set_xlabel(\"Song Index\")\n",
    "    ax.set_ylabel('Score')\n",
    "fig.tight_layout()\n"
   ]
  },
  {
   "cell_type": "code",
   "execution_count": 12,
   "metadata": {},
   "outputs": [
    {
     "data": {
      "image/png": "[encoded data removed]",
      "text/plain": [
       "<Figure size 1440x1440 with 9 Axes>"
      ]
     },
     "metadata": {
      "needs_background": "light"
     },
     "output_type": "display_data"
    }
   ],
   "source": [
    "#make the plots easier to read\n",
    "fig, axs = plt.subplots(3,3, figsize = (20,20))\n",
    "for i, ax in enumerate(axs.ravel()):\n",
    "    ax.bar(np.arange(0, 10), [track[features[i]] for track in info],\n",
    "           color=['black','brown', 'red', 'orange', 'pink','yellow', 'teal','green', 'blue', 'violet'])\n",
    "    ax.set_title(features[i], fontsize = 17)\n",
    "    ax.set_xlabel(\"Song Index\", fontsize = 15)\n",
    "    ax.set_ylabel('Score', fontsize = 15)\n",
    "  \n",
    "fig.tight_layout()\n",
    "plt.savefig('barplot_song_score.png')"
   ]
  },
  {
   "cell_type": "markdown",
   "metadata": {},
   "source": [
    "There didn't seem to any striking correlations between any of the attributes, but we suspect that audio features such as speechiness and acousticness may have some colinearity, so when we create our final model we will likely use some form of Lasso-liek regularization to pare down the features we use as our predictors."
   ]
  },
  {
   "cell_type": "markdown",
   "metadata": {},
   "source": [
    "## Initial Model\n",
    "Given the sources we have, it seems the most interesting question we could investigate is the automatic playlist generation problem, or song radio creation--given a single song (or a whole playlist), generate proposed songs that the user might like. So, for our initial model, we decided to use the Million Playlist Dataset in conjunction with the Spotify API to generate a \"next up on the radio\" song given an input song from the user. Again, we didn't see a way to incorporate the song lyrics, so we left them out.\n",
    "\n",
    "In the initial base model below, we take an input song via its URI, and select all playlists that contain the given song. Then, we find the intersection of the songs in the selected playlists, and remove from this intersection the set of songs in all the playlists, as we want to exclude songs that are so popular that they do not give us much information about specific music taste. This operates on the assumption that if a person likes a particular song, they may also like the music liked by other people who like that song. Essentially, we find other people who also like that song, find the songs that all of them like, excluding extremely popular songs, which will be our list of potential songs. \n",
    "\n",
    "Then, we use the Spotify API to get the audio features of these potential songs. Based purely on gut instinct, we decided that the most relevant audio features were: danceability, energy, acousticness, instrumentalness, and valence. For our final model, we would use cross-validation to select the most relevant predictors. We then used the sum of the squared difference of those audio features between the input song and the potential songs to assign each potential song a score, and then output the song with the lowest score (most similar to the input song).  "
   ]
  },
  {
   "cell_type": "code",
   "execution_count": 13,
   "metadata": {},
   "outputs": [],
   "source": [
    "def find_playlists_with_song(song):\n",
    "    return all_songs.loc[all_songs['track_name'] == song].playlist_id.unique() \n",
    "def find_common_songs(playlists):\n",
    "    return reduce(set.intersection, [set(pl.track_name.unique()) for pl in playlists ])\n",
    "basic = find_common_songs(playlists)"
   ]
  },
  {
   "cell_type": "code",
   "execution_count": 14,
   "metadata": {},
   "outputs": [],
   "source": [
    "uris_sorted = []\n",
    "def base_model(track_uri, n):\n",
    "    playlist_ids = all_songs.loc[all_songs['track_uri'] == track_uri].playlist_id.unique()\n",
    "    playlists_with_song = [playlists[pl] for pl in find_playlists_with_song('Ezra')]\n",
    "    common_songs = reduce(set.intersection, [set(pl.track_uri.unique()) for pl in playlists_with_song ])\n",
    "    basic = reduce(set.intersection, [set(pl.track_uri.unique()) for pl in playlists ])\n",
    "    potential = common_songs.difference(basic)\n",
    "    target = list(potential)[1:n]\n",
    "    rec_ids = [track[14:] for track in target]\n",
    "    \n",
    "    target_info = spotify.audio_features(track_uri[14:])\n",
    "    tracks_info = spotify.audio_features(rec_ids)\n",
    "    tracks_scores = dict()\n",
    "    for i, track in enumerate(tracks_info):\n",
    "        tracks_scores[str(rec_ids[i])] = (target_info[0]['danceability'] - track['danceability'])**2 + (target_info[0]['energy'] - track['energy'])**2 +(target_info[0]['acousticness'] - track['acousticness'])**2 + (target_info[0]['instrumentalness'] - track['instrumentalness'])**2 + (target_info[0]['valence'] - track['valence'])**2\n",
    "    sorted_scores = sorted(tracks_scores.items(), key=operator.itemgetter(1))\n",
    "    list_scores = [item[0] for item in sorted_scores]\n",
    "\n",
    "    for i in range(0,11):\n",
    "        uri_of_songs = spotify.track(list_scores[i])['uri']\n",
    "        uris_sorted.append(uri_of_songs)\n",
    "    #return sorted_scores[0:10], spotify.track(sorted_scores[0][0])\n",
    "    return uris_sorted\n",
    "\n",
    "example = base_model('spotify:track:0zG9M0rfjwe9gwsaQXN071', 30)"
   ]
  },
  {
   "cell_type": "code",
   "execution_count": 15,
   "metadata": {},
   "outputs": [],
   "source": [
    "unique_song_list = []\n",
    "for i in example:\n",
    "    unique_song_list.append(all_songs.track_name.loc[all_songs.track_uri == i].drop_duplicates(\n",
    "        keep='first').tolist())"
   ]
  },
  {
   "cell_type": "code",
   "execution_count": 16,
   "metadata": {},
   "outputs": [
    {
     "data": {
      "text/plain": [
       "[['Ezra'],\n",
       " [\"As She's Walking Away (feat. Alan Jackson)\"],\n",
       " ['100 Years'],\n",
       " ['Trndsttr (feat. M. Maggie) - Lucian Remix'],\n",
       " ['Every Rose Has Its Thorn - 2003 - Remaster'],\n",
       " ['Come On Get Higher'],\n",
       " ['Rock Bottom'],\n",
       " ['Pound Cake / Paris Morton Music 2'],\n",
       " ['Teenage Dirtbag'],\n",
       " ['Helluva Life'],\n",
       " ['Gangsta']]"
      ]
     },
     "execution_count": 16,
     "metadata": {},
     "output_type": "execute_result"
    }
   ],
   "source": [
    "unique_song_list"
   ]
  },
  {
   "cell_type": "markdown",
   "metadata": {},
   "source": [
    "## Chosen Model: Neural Network with Embedding"
   ]
  },
  {
   "cell_type": "code",
   "execution_count": 17,
   "metadata": {},
   "outputs": [],
   "source": [
    "# Million Playlists Dataset\n",
    "with open('playlists.pickle', 'rb') as f:\n",
    "    playlists = pickle.load(f)"
   ]
  },
  {
   "cell_type": "code",
   "execution_count": 18,
   "metadata": {},
   "outputs": [],
   "source": [
    "# create unique ids for each playlist\n",
    "all_songs = pd.DataFrame()\n",
    "for i, group in enumerate(playlists):\n",
    "    group['group_id'] = i\n",
    "all_songs = pd.concat(playlists)\n",
    "all_songs\n",
    "all_songs['pid']\n",
    "all_songs['group_id']\n",
    "all_songs['unique_id'] = 1000*all_songs['group_id'] + all_songs['pid']\n",
    "all_songs['playlist_id'] = all_songs['unique_id']\n"
   ]
  },
  {
   "cell_type": "code",
   "execution_count": 19,
   "metadata": {},
   "outputs": [],
   "source": [
    "# drop unused features\n",
    "just_songs = all_songs[['track_uri', 'playlist_id', 'artist_name']]\n",
    "just_songs = just_songs.loc[just_songs['playlist_id'] < 10]"
   ]
  },
  {
   "cell_type": "code",
   "execution_count": 20,
   "metadata": {},
   "outputs": [],
   "source": [
    "# create unique indices for each song so they can be embedded\n",
    "unique_songs = just_songs['track_uri'].unique()\n",
    "song_index = {song: idx for idx, song in enumerate(unique_songs)}\n",
    "index_song = {idx: song for song, idx in song_index.items()}"
   ]
  },
  {
   "cell_type": "code",
   "execution_count": 21,
   "metadata": {},
   "outputs": [],
   "source": [
    "# create unique indices for each artist so they can be embedded\n",
    "unique_artists = just_songs['artist_name'].unique()\n",
    "artist_index = {artist: idx for idx, artist in enumerate(unique_artists)}\n",
    "index_artist = {idx: artist for artist, idx in artist_index.items()}"
   ]
  },
  {
   "cell_type": "code",
   "execution_count": 22,
   "metadata": {},
   "outputs": [
    {
     "data": {
      "text/html": [
       "<div>\n",
       "<style scoped>\n",
       "    .dataframe tbody tr th:only-of-type {\n",
       "        vertical-align: middle;\n",
       "    }\n",
       "\n",
       "    .dataframe tbody tr th {\n",
       "        vertical-align: top;\n",
       "    }\n",
       "\n",
       "    .dataframe thead th {\n",
       "        text-align: right;\n",
       "    }\n",
       "</style>\n",
       "<table border=\"1\" class=\"dataframe\">\n",
       "  <thead>\n",
       "    <tr style=\"text-align: right;\">\n",
       "      <th></th>\n",
       "      <th>track_uri</th>\n",
       "      <th>playlist_id</th>\n",
       "      <th>artist_name</th>\n",
       "      <th>song_index</th>\n",
       "      <th>artist_index</th>\n",
       "    </tr>\n",
       "  </thead>\n",
       "  <tbody>\n",
       "    <tr>\n",
       "      <th>0</th>\n",
       "      <td>spotify:track:0UaMYEvWZi0ZqiDOoHU3YI</td>\n",
       "      <td>0</td>\n",
       "      <td>Missy Elliott</td>\n",
       "      <td>0</td>\n",
       "      <td>0</td>\n",
       "    </tr>\n",
       "    <tr>\n",
       "      <th>1</th>\n",
       "      <td>spotify:track:6I9VzXrHxO9rA9A5euc8Ak</td>\n",
       "      <td>0</td>\n",
       "      <td>Britney Spears</td>\n",
       "      <td>1</td>\n",
       "      <td>1</td>\n",
       "    </tr>\n",
       "    <tr>\n",
       "      <th>2</th>\n",
       "      <td>spotify:track:0WqIKmW4BTrj3eJFmnCKMv</td>\n",
       "      <td>0</td>\n",
       "      <td>Beyoncé</td>\n",
       "      <td>2</td>\n",
       "      <td>2</td>\n",
       "    </tr>\n",
       "    <tr>\n",
       "      <th>3</th>\n",
       "      <td>spotify:track:1AWQoqb9bSvzTjaLralEkT</td>\n",
       "      <td>0</td>\n",
       "      <td>Justin Timberlake</td>\n",
       "      <td>3</td>\n",
       "      <td>3</td>\n",
       "    </tr>\n",
       "    <tr>\n",
       "      <th>4</th>\n",
       "      <td>spotify:track:1lzr43nnXAijIGYnCT8M8H</td>\n",
       "      <td>0</td>\n",
       "      <td>Shaggy</td>\n",
       "      <td>4</td>\n",
       "      <td>4</td>\n",
       "    </tr>\n",
       "  </tbody>\n",
       "</table>\n",
       "</div>"
      ],
      "text/plain": [
       "                              track_uri  playlist_id        artist_name  song_index  artist_index\n",
       "0  spotify:track:0UaMYEvWZi0ZqiDOoHU3YI            0      Missy Elliott           0             0\n",
       "1  spotify:track:6I9VzXrHxO9rA9A5euc8Ak            0     Britney Spears           1             1\n",
       "2  spotify:track:0WqIKmW4BTrj3eJFmnCKMv            0            Beyoncé           2             2\n",
       "3  spotify:track:1AWQoqb9bSvzTjaLralEkT            0  Justin Timberlake           3             3\n",
       "4  spotify:track:1lzr43nnXAijIGYnCT8M8H            0             Shaggy           4             4"
      ]
     },
     "execution_count": 22,
     "metadata": {},
     "output_type": "execute_result"
    }
   ],
   "source": [
    "just_songs['song_index'] = [song_index[song] for song in just_songs['track_uri']]\n",
    "just_songs['artist_index'] = [artist_index[artist] for artist in just_songs['artist_name']]\n",
    "just_songs.head()"
   ]
  },
  {
   "cell_type": "code",
   "execution_count": 23,
   "metadata": {},
   "outputs": [],
   "source": [
    "# find features for each track via spotify API\n",
    "uris = [track[14:] for track in unique_songs]\n",
    "# spotify API can only query 100 tracks at once\n",
    "n = 100\n",
    "batches = [uris[i * n:(i + 1) * n] for i in range((len(uris) + n - 1) // n )]\n",
    "infos = []\n",
    "for batch in batches:\n",
    "    infos.append(spotify.audio_features(batch))"
   ]
  },
  {
   "cell_type": "code",
   "execution_count": 24,
   "metadata": {},
   "outputs": [],
   "source": [
    "with open('infos.pickle', 'wb') as f:\n",
    "    pickle.dump(infos, f)\n",
    "\n",
    "# for 10 playlists (503 unique songs)\n",
    "with open('infos.pickle', 'rb') as f:\n",
    "    infos = pickle.load(f)\n",
    "infos = [j for i in infos for j in i]\n"
   ]
  },
  {
   "cell_type": "code",
   "execution_count": 25,
   "metadata": {},
   "outputs": [
    {
     "data": {
      "text/plain": [
       "503"
      ]
     },
     "execution_count": 25,
     "metadata": {},
     "output_type": "execute_result"
    }
   ],
   "source": [
    "len(infos)"
   ]
  },
  {
   "cell_type": "code",
   "execution_count": 26,
   "metadata": {},
   "outputs": [],
   "source": [
    "# add features to just_songs dataframe\n",
    "features = [\"danceability\", \"energy\", \"acousticness\", \"instrumentalness\", \"valence\", \"speechiness\", \"liveness\", \"tempo\", \"loudness\"]\n",
    "for feature in features:\n",
    "    just_songs[feature] = None\n",
    "for song in unique_songs:\n",
    "    for track in infos:\n",
    "        if track['uri'] == song:\n",
    "            t = track\n",
    "            song_features = [track[feature] for feature in features]\n",
    "            break;\n",
    "    just_songs.loc[just_songs['track_uri'] == song, features] = song_features"
   ]
  },
  {
   "cell_type": "code",
   "execution_count": 27,
   "metadata": {},
   "outputs": [],
   "source": [
    "with open('just_songs.pickle', 'wb') as f:\n",
    "    pickle.dump(just_songs, f)\n",
    "\n",
    "with open('just_songs.pickle', 'rb') as f:\n",
    "    just_songs = pickle.load(f)"
   ]
  },
  {
   "cell_type": "code",
   "execution_count": 28,
   "metadata": {},
   "outputs": [
    {
     "data": {
      "text/plain": [
       "Index(['track_uri', 'playlist_id', 'artist_name', 'song_index', 'artist_index', 'danceability', 'energy', 'acousticness', 'instrumentalness', 'valence', 'speechiness', 'liveness', 'tempo', 'loudness'], dtype='object')"
      ]
     },
     "execution_count": 28,
     "metadata": {},
     "output_type": "execute_result"
    }
   ],
   "source": [
    "just_songs.columns"
   ]
  },
  {
   "cell_type": "code",
   "execution_count": 29,
   "metadata": {},
   "outputs": [
    {
     "data": {
      "text/plain": [
       "(503,)"
      ]
     },
     "execution_count": 29,
     "metadata": {},
     "output_type": "execute_result"
    }
   ],
   "source": [
    "unique_song_ids = just_songs['song_index'].unique()\n",
    "just_songs.shape\n",
    "unique_song_ids.shape"
   ]
  },
  {
   "cell_type": "code",
   "execution_count": 30,
   "metadata": {},
   "outputs": [],
   "source": [
    "# add all pairs of songs in same playlist as positive examples to train on\n",
    "predictors = [\"artist_index\", \"danceability\", \"energy\", \"acousticness\", \"instrumentalness\", \"valence\", \"speechiness\", \"liveness\", \"tempo\", \"loudness\"]\n",
    "pairs = []\n",
    "for song in unique_song_ids:\n",
    "    pl = just_songs.loc[just_songs['song_index'] == song]['playlist_id']\n",
    "    song1_feat = [just_songs[just_songs['song_index'] == song][pred].unique().item() for pred in predictors]\n",
    "    for p in pl:\n",
    "        for _, song2 in just_songs.loc[just_songs['playlist_id'] == p].iterrows():\n",
    "            song2_feat = [song2[pred] for pred in predictors]\n",
    "            pairs.append(song1_feat + song2_feat)\n",
    "pairs = np.array(pairs)"
   ]
  },
  {
   "cell_type": "code",
   "execution_count": 31,
   "metadata": {},
   "outputs": [],
   "source": [
    "#save pairs\n",
    "with open('pairs.pickle', 'wb') as f:\n",
    "    pickle.dump(pairs, f)\n",
    "\n",
    "with open('pairs.pickle', 'rb') as f:\n",
    "    pairs = pickle.load(f)"
   ]
  },
  {
   "cell_type": "code",
   "execution_count": 32,
   "metadata": {},
   "outputs": [],
   "source": [
    "pairs_set = set([tuple(i) for i in pairs[:, [0,10]]])"
   ]
  },
  {
   "cell_type": "code",
   "execution_count": 33,
   "metadata": {},
   "outputs": [],
   "source": [
    "#save pairs_set\n",
    "with open('pairs_set.pickle', 'wb') as f:\n",
    "    pickle.dump(pairs_set, f)\n",
    "with open('pairs_set.pickle', 'rb') as f:\n",
    "    pairs_set = pickle.load(f)"
   ]
  },
  {
   "cell_type": "code",
   "execution_count": 34,
   "metadata": {},
   "outputs": [],
   "source": [
    "#create a validation set for our neural network\n",
    "pairs_train, pairs_val = train_test_split(pairs, test_size=0.2, random_state=109)"
   ]
  },
  {
   "cell_type": "code",
   "execution_count": 35,
   "metadata": {},
   "outputs": [
    {
     "name": "stdout",
     "output_type": "stream",
     "text": [
      "(29206, 20)\n",
      "(7302, 20)\n",
      "(36508, 20)\n"
     ]
    }
   ],
   "source": [
    "print(pairs_train.shape)\n",
    "print(pairs_val.shape)\n",
    "print(pairs.shape)"
   ]
  },
  {
   "cell_type": "code",
   "execution_count": 36,
   "metadata": {},
   "outputs": [
    {
     "data": {
      "text/plain": [
       "['Hold Me Tight',\n",
       " 'Hola Hola',\n",
       " \"It's Definitely You\",\n",
       " 'Ring My Bell',\n",
       " 'Ah-Choo',\n",
       " 'The Room Where It Happens',\n",
       " \"Leavin'\",\n",
       " \"It's Your Body 4\",\n",
       " 'Luv',\n",
       " 'Spring Day']"
      ]
     },
     "execution_count": 36,
     "metadata": {},
     "output_type": "execute_result"
    }
   ],
   "source": [
    "#making plot of most common songs in true song pairs\n",
    "import collections\n",
    "a_list = []\n",
    "for i in range(len(pairs_train)):\n",
    "    a = pairs_train[i][0]\n",
    "    a_list.append(a)\n",
    "counter=collections.Counter(a_list)\n",
    "counter.items()\n",
    "list_common = counter.most_common(10)\n",
    "list_of_vals = [i[1] for i in list_common]\n",
    "list_of_indices = [i[0] for i in list_common]\n",
    "values = []\n",
    "for i in list_of_indices:\n",
    "    val = just_songs.track_uri.loc[just_songs.song_index == i - 1].tolist()\n",
    "    values.append(val)\n",
    "\n",
    "flat_list_vals = [item for sublist in values for item in sublist]\n",
    "\n",
    "new_val_songs = []\n",
    "for song in flat_list_vals: \n",
    "    new_val_songs.append(all_songs.track_name.loc[all_songs.track_uri == song].drop_duplicates(keep = 'first').tolist())\n",
    "flat_list_songs = [item for sublist in new_val_songs for item in sublist]\n",
    "flat_list_songs"
   ]
  },
  {
   "cell_type": "code",
   "execution_count": 37,
   "metadata": {},
   "outputs": [
    {
     "data": {
      "image/png": "[encoded data removed]",
      "text/plain": [
       "<Figure size 720x360 with 1 Axes>"
      ]
     },
     "metadata": {
      "needs_background": "light"
     },
     "output_type": "display_data"
    }
   ],
   "source": [
    "plt.figure(figsize=(10,5))\n",
    "chart = sns.barplot(x=flat_list_songs, y = list_of_vals);\n",
    "chart.set_xticklabels(chart.get_xticklabels(), rotation=45, fontsize = 9)\n",
    "chart.set(xlabel='Song', ylabel='Frequency')\n",
    "plt.title(\"Frequency of Song in True Pairs\")\n",
    "plt.savefig('barplot_song_freq.png')"
   ]
  },
  {
   "cell_type": "code",
   "execution_count": 38,
   "metadata": {},
   "outputs": [],
   "source": [
    "# function to generate batches of negative and positive examples to train on\n",
    "def generate_batch(pairs_train, n_positive = 50, n_negative = 100):\n",
    "    predictors = [\"artist_index\", \"danceability\", \"energy\", \"acousticness\", \"instrumentalness\", \"valence\", \"speechiness\", \"liveness\", \"tempo\", \"loudness\"]\n",
    "\n",
    "    \"\"\"Generate batches of samples for training\"\"\"\n",
    "    batch_size = n_positive + n_negative\n",
    "    batch = np.zeros((batch_size, 21))\n",
    "        \n",
    "    # This creates a generator\n",
    "    while True:\n",
    "        # randomly choose positive examples\n",
    "        for idx, pair in zip(range(n_positive), pairs_train[np.random.randint(pairs_train.shape[0], size=n_positive), :]):\n",
    "            batch[idx, :] = np.append(pair, 1)\n",
    "        # Increment idx by 1\n",
    "        idx += 1\n",
    "        \n",
    "        # Add negative examples until reach batch size\n",
    "        while idx < batch_size:\n",
    "            \n",
    "            # random selection\n",
    "            song1 = random.randrange(len(unique_song_ids))\n",
    "            song2 = random.randrange(len(unique_song_ids))\n",
    "            \n",
    "            # Check to make sure this is not a positive example\n",
    "            if (song1, song2) not in pairs_set:\n",
    "                \n",
    "                song1_feat = [just_songs[just_songs['song_index'] == song1][pred].unique().item() for pred in predictors]\n",
    "                song2_feat = [just_songs[just_songs['song_index'] == song2][pred].unique().item() for pred in predictors]\n",
    "                \n",
    "                # Add to batch and increment index\n",
    "                batch[idx, :] = np.concatenate([song1_feat, np.append(song2_feat, 0)])\n",
    "                idx += 1\n",
    "                \n",
    "        # Make sure to shuffle order\n",
    "        np.random.shuffle(batch)\n",
    "        \n",
    "        d = dict({'song1': batch[:, 0]})\n",
    "        d.update({feat + '1': batch[:, i+1] for i, feat in enumerate(predictors)})\n",
    "        d.update({'song2': batch[:, 10]})\n",
    "        d.update({feat + '2': batch[:, i+10] for i, feat in enumerate(predictors)})\n",
    "\n",
    "        \n",
    "        yield  d, batch[:, 20]"
   ]
  },
  {
   "cell_type": "code",
   "execution_count": 39,
   "metadata": {},
   "outputs": [
    {
     "data": {
      "text/plain": [
       "({'song1': array([ 14., 323.,  57.]),\n",
       "  'artist_index1': array([0.669, 0.586, 0.293]),\n",
       "  'danceability1': array([0.822, 0.848, 0.787]),\n",
       "  'energy1': array([0.0339 , 0.038  , 0.00774]),\n",
       "  'acousticness1': array([1.42e-04, 6.40e-04, 4.96e-01]),\n",
       "  'instrumentalness1': array([0.43 , 0.645, 0.138]),\n",
       "  'valence1': array([0.043 , 0.297 , 0.0438]),\n",
       "  'speechiness1': array([0.231, 0.122, 0.392]),\n",
       "  'liveness1': array([120.011, 137.723, 165.307]),\n",
       "  'tempo1': array([-4.288, -6.899, -8.841]),\n",
       "  'loudness1': array([211.,  71.,  47.]),\n",
       "  'song2': array([211.,  71.,  47.]),\n",
       "  'artist_index2': array([211.,  71.,  47.]),\n",
       "  'danceability2': array([0.621, 0.827, 0.633]),\n",
       "  'energy2': array([0.616, 0.722, 0.858]),\n",
       "  'acousticness2': array([0.0765 , 0.00579, 0.208  ]),\n",
       "  'instrumentalness2': array([0.    , 0.    , 0.0114]),\n",
       "  'valence2': array([0.512, 0.589, 0.725]),\n",
       "  'speechiness2': array([0.15  , 0.0945, 0.0473]),\n",
       "  'liveness2': array([0.131 , 0.0935, 0.0655]),\n",
       "  'tempo2': array([122.93 , 102.972, 102.559]),\n",
       "  'loudness2': array([-7.211, -4.804, -7.42 ])},\n",
       " array([1., 0., 1.]))"
      ]
     },
     "execution_count": 39,
     "metadata": {},
     "output_type": "execute_result"
    }
   ],
   "source": [
    "next(generate_batch(pairs_train, n_positive = 2, n_negative = 1))"
   ]
  },
  {
   "cell_type": "code",
   "execution_count": 40,
   "metadata": {},
   "outputs": [
    {
     "name": "stdout",
     "output_type": "stream",
     "text": [
      "Model: \"model\"\n",
      "__________________________________________________________________________________________________\n",
      "Layer (type)                    Output Shape         Param #     Connected to                     \n",
      "==================================================================================================\n",
      "song1 (InputLayer)              [(None, 1)]          0                                            \n",
      "__________________________________________________________________________________________________\n",
      "song2 (InputLayer)              [(None, 1)]          0                                            \n",
      "__________________________________________________________________________________________________\n",
      "artist_index1 (InputLayer)      [(None, 1)]          0                                            \n",
      "__________________________________________________________________________________________________\n",
      "artist_index2 (InputLayer)      [(None, 1)]          0                                            \n",
      "__________________________________________________________________________________________________\n",
      "song1_embedding (Embedding)     (None, 1, 50)        25150       song1[0][0]                      \n",
      "__________________________________________________________________________________________________\n",
      "song2_embedding (Embedding)     (None, 1, 50)        25150       song2[0][0]                      \n",
      "__________________________________________________________________________________________________\n",
      "artist1_embedding (Embedding)   (None, 1, 50)        16800       artist_index1[0][0]              \n",
      "__________________________________________________________________________________________________\n",
      "artist2_embedding (Embedding)   (None, 1, 50)        16800       artist_index2[0][0]              \n",
      "__________________________________________________________________________________________________\n",
      "dot_product_song (Dot)          (None, 1, 1)         0           song1_embedding[0][0]            \n",
      "                                                                 song2_embedding[0][0]            \n",
      "__________________________________________________________________________________________________\n",
      "dot_product_artist (Dot)        (None, 1, 1)         0           artist1_embedding[0][0]          \n",
      "                                                                 artist2_embedding[0][0]          \n",
      "__________________________________________________________________________________________________\n",
      "reshape (Reshape)               (None, 1)            0           dot_product_song[0][0]           \n",
      "__________________________________________________________________________________________________\n",
      "reshape_1 (Reshape)             (None, 1)            0           dot_product_artist[0][0]         \n",
      "__________________________________________________________________________________________________\n",
      "danceability1 (InputLayer)      [(None, 1)]          0                                            \n",
      "__________________________________________________________________________________________________\n",
      "danceability2 (InputLayer)      [(None, 1)]          0                                            \n",
      "__________________________________________________________________________________________________\n",
      "energy1 (InputLayer)            [(None, 1)]          0                                            \n",
      "__________________________________________________________________________________________________\n",
      "energy2 (InputLayer)            [(None, 1)]          0                                            \n",
      "__________________________________________________________________________________________________\n",
      "acousticness1 (InputLayer)      [(None, 1)]          0                                            \n",
      "__________________________________________________________________________________________________\n",
      "acousticness2 (InputLayer)      [(None, 1)]          0                                            \n",
      "__________________________________________________________________________________________________\n",
      "instrumentalness1 (InputLayer)  [(None, 1)]          0                                            \n",
      "__________________________________________________________________________________________________\n",
      "instrumentalness2 (InputLayer)  [(None, 1)]          0                                            \n",
      "__________________________________________________________________________________________________\n",
      "valence1 (InputLayer)           [(None, 1)]          0                                            \n",
      "__________________________________________________________________________________________________\n",
      "valence2 (InputLayer)           [(None, 1)]          0                                            \n",
      "__________________________________________________________________________________________________\n",
      "speechiness1 (InputLayer)       [(None, 1)]          0                                            \n",
      "__________________________________________________________________________________________________\n",
      "speechiness2 (InputLayer)       [(None, 1)]          0                                            \n",
      "__________________________________________________________________________________________________\n",
      "liveness1 (InputLayer)          [(None, 1)]          0                                            \n",
      "__________________________________________________________________________________________________\n",
      "liveness2 (InputLayer)          [(None, 1)]          0                                            \n",
      "__________________________________________________________________________________________________\n",
      "tempo1 (InputLayer)             [(None, 1)]          0                                            \n",
      "__________________________________________________________________________________________________\n",
      "tempo2 (InputLayer)             [(None, 1)]          0                                            \n",
      "__________________________________________________________________________________________________\n",
      "loudness1 (InputLayer)          [(None, 1)]          0                                            \n",
      "__________________________________________________________________________________________________\n",
      "loudness2 (InputLayer)          [(None, 1)]          0                                            \n",
      "__________________________________________________________________________________________________\n",
      "concatenate (Concatenate)       (None, 20)           0           reshape[0][0]                    \n",
      "                                                                 reshape_1[0][0]                  \n",
      "                                                                 danceability1[0][0]              \n",
      "                                                                 danceability2[0][0]              \n",
      "                                                                 energy1[0][0]                    \n",
      "                                                                 energy2[0][0]                    \n",
      "                                                                 acousticness1[0][0]              \n",
      "                                                                 acousticness2[0][0]              \n",
      "                                                                 instrumentalness1[0][0]          \n",
      "                                                                 instrumentalness2[0][0]          \n",
      "                                                                 valence1[0][0]                   \n",
      "                                                                 valence2[0][0]                   \n",
      "                                                                 speechiness1[0][0]               \n",
      "                                                                 speechiness2[0][0]               \n",
      "                                                                 liveness1[0][0]                  \n",
      "                                                                 liveness2[0][0]                  \n",
      "                                                                 tempo1[0][0]                     \n",
      "                                                                 tempo2[0][0]                     \n",
      "                                                                 loudness1[0][0]                  \n",
      "                                                                 loudness2[0][0]                  \n",
      "__________________________________________________________________________________________________\n",
      "dense (Dense)                   (None, 1)            21          concatenate[0][0]                \n",
      "==================================================================================================\n",
      "Total params: 83,921\n",
      "Trainable params: 83,921\n",
      "Non-trainable params: 0\n",
      "__________________________________________________________________________________________________\n"
     ]
    }
   ],
   "source": [
    "#function that embeds our features\n",
    "def song_embedding_model(embedding_size = 50):\n",
    "    \n",
    "    # All inputs are 1-dimensional\n",
    "    song1 = Input(name = 'song1', shape = [1])\n",
    "    song2 = Input(name = 'song2', shape = [1])\n",
    "    artist1 = Input(name = 'artist_index1', shape = [1])\n",
    "    artist2 = Input(name = 'artist_index2', shape = [1])\n",
    "    danceability1 = Input(name = 'danceability1', shape = [1])\n",
    "    danceability2 = Input(name = 'danceability2', shape = [1])\n",
    "    energy1 = Input(name = 'energy1', shape = [1])\n",
    "    energy2 = Input(name = 'energy2', shape = [1])\n",
    "    acousticness1 = Input(name = 'acousticness1', shape = [1])\n",
    "    acousticness2 = Input(name = 'acousticness2', shape = [1])\n",
    "    instrumentalness1 = Input(name = 'instrumentalness1', shape = [1])\n",
    "    instrumentalness2 = Input(name = 'instrumentalness2', shape = [1])\n",
    "    valence1 = Input(name = 'valence1', shape = [1])\n",
    "    valence2 = Input(name = 'valence2', shape = [1])\n",
    "    speechiness1 = Input(name = 'speechiness1', shape = [1])\n",
    "    speechiness2 = Input(name = 'speechiness2', shape = [1])\n",
    "    liveness1 = Input(name = 'liveness1', shape = [1])\n",
    "    liveness2 = Input(name = 'liveness2', shape = [1])\n",
    "    tempo1 = Input(name = 'tempo1', shape = [1])\n",
    "    tempo2 = Input(name = 'tempo2', shape = [1])\n",
    "    loudness1 = Input(name= 'loudness1', shape = [1])\n",
    "    loudness2 = Input(name= 'loudness2', shape = [1])\n",
    "  \n",
    " \n",
    "    # Embedding song1 (shape will be (None, 1, 50))\n",
    "    song1_embedding = Embedding(name = 'song1_embedding',\n",
    "                               input_dim = len(song_index),\n",
    "                               output_dim = embedding_size)(song1)\n",
    "    \n",
    "    # Embedding song2 (shape will be (None, 1, 50))\n",
    "    song2_embedding = Embedding(name = 'song2_embedding',\n",
    "                               input_dim = len(song_index),\n",
    "                               output_dim = embedding_size)(song2)\n",
    "    \n",
    "    # Embedding the artist1 (shape will be (None, 1, 50))\n",
    "    artist1_embedding = Embedding(name = 'artist1_embedding',\n",
    "                               input_dim = len(artist_index),\n",
    "                               output_dim = embedding_size)(artist1)\n",
    "    \n",
    "    # Embedding the artist2 (shape will be (None, 1, 50))\n",
    "    artist2_embedding = Embedding(name = 'artist2_embedding',\n",
    "                               input_dim = len(artist_index),\n",
    "                               output_dim = embedding_size)(artist2)\n",
    "        \n",
    "\n",
    "    # Merge the layers with a dot product along the second axis (shape will be (None, 1, 1))\n",
    "    merged_song = Dot(name = 'dot_product_song', normalize = True, axes = 2)([song1_embedding, song2_embedding])\n",
    "\n",
    "    # Reshape to be a single number (shape will be (None, 1))\n",
    "    merged_song = Reshape(target_shape = [1])(merged_song)\n",
    "    \n",
    "    merged_artist = Dot(name = 'dot_product_artist', normalize = True, axes = 2)([artist1_embedding, artist2_embedding])\n",
    "    \n",
    "    # Reshape to be a single number (shape will be (None, 1))\n",
    "    merged_artist = Reshape(target_shape = [1])(merged_artist)\n",
    "     \n",
    "    #concatenate = Concatenate()([merged_song, merged_artist, predictors1, predictors2])\n",
    "    concatenate = Concatenate()([merged_song, merged_artist, danceability1, danceability2, energy1,energy2,\n",
    "                                 acousticness1, acousticness2, instrumentalness1, instrumentalness2, valence1, \n",
    "                                valence2, speechiness1, speechiness2, liveness1, liveness2, tempo1, tempo2, \n",
    "                                loudness1, loudness2])\n",
    "    output = Dense(1, activation = 'sigmoid')(concatenate)\n",
    "\n",
    "\n",
    "    model = Model(inputs = [song1, song2, artist1, artist2,  danceability1, danceability2, energy1,energy2,\n",
    "                                 acousticness1, acousticness2, instrumentalness1, instrumentalness2, valence1, \n",
    "                                valence2, speechiness1, speechiness2, liveness1, liveness2, tempo1, tempo2, \n",
    "                                loudness1, loudness2], outputs = output)\n",
    "    model.compile(optimizer = 'Adam', loss = 'binary_crossentropy', metrics = ['accuracy'])\n",
    "        \n",
    "    return model\n",
    "\n",
    "# Instantiate model and show parameters\n",
    "model = song_embedding_model()\n",
    "model.summary()"
   ]
  },
  {
   "cell_type": "code",
   "execution_count": 41,
   "metadata": {},
   "outputs": [],
   "source": [
    "# we ran this in google colab gpu\n",
    "# n_positive = 10\n",
    "# n_negative = 20\n",
    "# gen = generate_batch(pairs_train, n_positive, n_negative)\n",
    "# gen_val = generate_batch(pairs_val, n_positive, n_negative)\n",
    "# # Train\n",
    "# h = model.fit_generator(gen, epochs = 5, \n",
    "#                         steps_per_epoch = len(pairs) // n_positive, validation_data = gen_val,\n",
    "#                         verbose = 2)"
   ]
  },
  {
   "cell_type": "code",
   "execution_count": 42,
   "metadata": {},
   "outputs": [
    {
     "data": {
      "text/plain": [
       "(503, 50)"
      ]
     },
     "execution_count": 42,
     "metadata": {},
     "output_type": "execute_result"
    }
   ],
   "source": [
    "#saved model from above \n",
    "json_file = open('model.json', 'r')\n",
    "\n",
    "# Model reconstruction from JSON file\n",
    "with open('model.json', 'r') as f:\n",
    "    model = model_from_json(f.read())\n",
    "song1_layer = model.get_layer('song1_embedding')\n",
    "song1_weights = song1_layer.get_weights()[0]\n",
    "song1_weights.shape"
   ]
  },
  {
   "cell_type": "code",
   "execution_count": 43,
   "metadata": {},
   "outputs": [],
   "source": [
    "#saved song weights\n",
    "with open('song1_weights.pickle', 'rb') as f:\n",
    "    song1_weights = pickle.load(f)"
   ]
  },
  {
   "cell_type": "code",
   "execution_count": 44,
   "metadata": {},
   "outputs": [
    {
     "data": {
      "text/plain": [
       "0.9999998"
      ]
     },
     "execution_count": 44,
     "metadata": {},
     "output_type": "execute_result"
    }
   ],
   "source": [
    "song1_weights = song1_weights / np.linalg.norm(song1_weights, axis = 1).reshape((-1, 1))\n",
    "song1_weights[0][:10]\n",
    "np.sum(np.square(song1_weights[0]))"
   ]
  },
  {
   "cell_type": "code",
   "execution_count": 45,
   "metadata": {},
   "outputs": [],
   "source": [
    "plt.style.use('fivethirtyeight')\n",
    "plt.rcParams['font.size'] = 15\n",
    " \n",
    "def find_similar(name, weights, index_name = 'song', n = 10, least = False, return_dist = False, plot = False):\n",
    "    \n",
    "    \"\"\"Find n most similar items (or least) to name based on embeddings. Option to also plot the results\"\"\"\n",
    "    \n",
    "    # Select index and reverse index\n",
    "    if index_name == 'song':\n",
    "        index = song_index\n",
    "        rindex = index_song\n",
    "    elif index_name == 'song2':\n",
    "        index = song_index\n",
    "        rindex = index_song\n",
    "    \n",
    "    # Check to make sure `name` is in index\n",
    "    try:\n",
    "        # Calculate dot product between book and all others\n",
    "        dists = np.dot(weights, weights[index[name]])\n",
    "    except KeyError:\n",
    "        print(f'{name} Not Found.')\n",
    "        return\n",
    "    \n",
    "    # Sort distance indexes from smallest to largest\n",
    "    sorted_dists = np.argsort(dists)\n",
    "    \n",
    "    # Plot results if specified\n",
    "    if plot:\n",
    "        \n",
    "        # Find furthest and closest items\n",
    "        furthest = sorted_dists[:(n // 2)]\n",
    "        closest = sorted_dists[-n-1: len(dists) - 1]\n",
    "        items = [rindex[c] for c in furthest]\n",
    "        items.extend(rindex[c] for c in closest)\n",
    "        \n",
    "        # Find furthest and closets distances\n",
    "        distances = [dists[c] for c in furthest]\n",
    "        distances.extend(dists[c] for c in closest)\n",
    "        \n",
    "        colors = ['r' for _ in range(n //2)]\n",
    "        colors.extend('g' for _ in range(n))\n",
    "        \n",
    "        data = pd.DataFrame({'distance': distances}, index = items)\n",
    "        \n",
    "        # Horizontal bar chart\n",
    "        data['distance'].plot.barh(color = colors, figsize = (10, 8),\n",
    "                                   edgecolor = 'k', linewidth = 2)\n",
    "        plt.xlabel('Cosine Similarity');\n",
    "        plt.axvline(x = 0, color = 'k');\n",
    "        \n",
    "        # Formatting for italicized title\n",
    "        name_str = f'{index_name.capitalize()}s Most and Least Similar to'\n",
    "        for word in name.split():\n",
    "            # Title uses latex for italize\n",
    "            name_str += ' $\\it{' + word + '}$'\n",
    "        plt.title(name_str, x = 0.2, size = 28, y = 1.05)\n",
    "        \n",
    "        return None\n",
    "    \n",
    "    # If specified, find the least similar\n",
    "    if least:\n",
    "        # Take the first n from sorted distances\n",
    "        closest = sorted_dists[:n]\n",
    "         \n",
    "        print(f'{index_name.capitalize()}s furthest from {name}.\\n')\n",
    "        \n",
    "    # Otherwise find the most similar\n",
    "    else:\n",
    "        # Take the last n sorted distances\n",
    "        closest = sorted_dists[-n:]\n",
    "        \n",
    "        # Need distances later on\n",
    "        if return_dist:\n",
    "            return dists, closest\n",
    "        \n",
    "    # Need distances later on\n",
    "    if return_dist:\n",
    "        return dists, closest\n",
    "    \n",
    "    \n",
    "    # Print formatting\n",
    "    max_width = max([len(rindex[c]) for c in closest])\n",
    "    song_name = []\n",
    "    similarity = []\n",
    "    # Print the most similar and distances\n",
    "    for c in reversed(closest):\n",
    "        song_name.append(rindex[c])\n",
    "        similarity.append(dists[c])\n",
    "      #  print(f'{index_name.capitalize()}: {rindex[c]:{max_width + 2}} Similarity: {dists[c]:.{2}}')\n",
    "    return song_name, similarity"
   ]
  },
  {
   "cell_type": "code",
   "execution_count": 46,
   "metadata": {},
   "outputs": [],
   "source": [
    "# find songs similar to example track\n",
    "song_uri_list, similarity_list = find_similar('spotify:track:6I9VzXrHxO9rA9A5euc8Ak', song1_weights)\n",
    "unique_song_list = []\n",
    "for song in song_uri_list: \n",
    "    unique_song_list.append(all_songs.track_name.loc[all_songs.track_uri == song].drop_duplicates(\n",
    "        keep='first').tolist())"
   ]
  },
  {
   "cell_type": "code",
   "execution_count": 47,
   "metadata": {},
   "outputs": [],
   "source": [
    "#create playlist of 10 most similar songs\n",
    "similar_song_list = [item for sublist in unique_song_list for item in sublist]\n",
    "song_df = pd.DataFrame({'Similarity': similarity_list})\n",
    "song_df['Suggested Song'] = similar_song_list"
   ]
  },
  {
   "cell_type": "code",
   "execution_count": 48,
   "metadata": {},
   "outputs": [
    {
     "data": {
      "text/html": [
       "<div>\n",
       "<style scoped>\n",
       "    .dataframe tbody tr th:only-of-type {\n",
       "        vertical-align: middle;\n",
       "    }\n",
       "\n",
       "    .dataframe tbody tr th {\n",
       "        vertical-align: top;\n",
       "    }\n",
       "\n",
       "    .dataframe thead th {\n",
       "        text-align: right;\n",
       "    }\n",
       "</style>\n",
       "<table border=\"1\" class=\"dataframe\">\n",
       "  <thead>\n",
       "    <tr style=\"text-align: right;\">\n",
       "      <th></th>\n",
       "      <th>Similarity</th>\n",
       "      <th>Suggested Song</th>\n",
       "    </tr>\n",
       "  </thead>\n",
       "  <tbody>\n",
       "    <tr>\n",
       "      <th>0</th>\n",
       "      <td>1.000000</td>\n",
       "      <td>Toxic</td>\n",
       "    </tr>\n",
       "    <tr>\n",
       "      <th>1</th>\n",
       "      <td>0.949364</td>\n",
       "      <td>Buttons</td>\n",
       "    </tr>\n",
       "    <tr>\n",
       "      <th>2</th>\n",
       "      <td>0.948898</td>\n",
       "      <td>Jumpin', Jumpin'</td>\n",
       "    </tr>\n",
       "    <tr>\n",
       "      <th>3</th>\n",
       "      <td>0.948502</td>\n",
       "      <td>Year 3000</td>\n",
       "    </tr>\n",
       "    <tr>\n",
       "      <th>4</th>\n",
       "      <td>0.944994</td>\n",
       "      <td>Right Where You Want Me - Radio Edit Version</td>\n",
       "    </tr>\n",
       "    <tr>\n",
       "      <th>5</th>\n",
       "      <td>0.940854</td>\n",
       "      <td>It Wasn't Me</td>\n",
       "    </tr>\n",
       "    <tr>\n",
       "      <th>6</th>\n",
       "      <td>0.938565</td>\n",
       "      <td>Lose Control (feat. Ciara &amp; Fat Man Scoop)</td>\n",
       "    </tr>\n",
       "    <tr>\n",
       "      <th>7</th>\n",
       "      <td>0.938363</td>\n",
       "      <td>Just The Girl</td>\n",
       "    </tr>\n",
       "    <tr>\n",
       "      <th>8</th>\n",
       "      <td>0.929404</td>\n",
       "      <td>Check On It - feat. Bun B and Slim Thug</td>\n",
       "    </tr>\n",
       "    <tr>\n",
       "      <th>9</th>\n",
       "      <td>0.925899</td>\n",
       "      <td>Beautiful Soul</td>\n",
       "    </tr>\n",
       "  </tbody>\n",
       "</table>\n",
       "</div>"
      ],
      "text/plain": [
       "   Similarity                                Suggested Song\n",
       "0    1.000000                                         Toxic\n",
       "1    0.949364                                       Buttons\n",
       "2    0.948898                              Jumpin', Jumpin'\n",
       "3    0.948502                                     Year 3000\n",
       "4    0.944994  Right Where You Want Me - Radio Edit Version\n",
       "5    0.940854                                  It Wasn't Me\n",
       "6    0.938565    Lose Control (feat. Ciara & Fat Man Scoop)\n",
       "7    0.938363                                 Just The Girl\n",
       "8    0.929404       Check On It - feat. Bun B and Slim Thug\n",
       "9    0.925899                                Beautiful Soul"
      ]
     },
     "execution_count": 48,
     "metadata": {},
     "output_type": "execute_result"
    }
   ],
   "source": [
    "song_df"
   ]
  },
  {
   "cell_type": "code",
   "execution_count": 49,
   "metadata": {},
   "outputs": [],
   "source": [
    "# extract model train and test loss and accuracy from model run on google colab\n",
    "with open('loss_val.pickle', 'rb') as f:\n",
    "    loss_val = pickle.load(f)\n",
    "with open('loss_train.pickle', 'rb') as f:\n",
    "    loss_train = pickle.load(f)\n",
    "with open('accuracy_val.pickle', 'rb') as f:\n",
    "    acc_val = pickle.load(f)\n",
    "with open('accuracy_train.pickle', 'rb') as f:\n",
    "    acc_train = pickle.load(f)"
   ]
  },
  {
   "cell_type": "code",
   "execution_count": 50,
   "metadata": {},
   "outputs": [
    {
     "data": {
      "text/plain": [
       "<matplotlib.legend.Legend at 0x1a366d4a58>"
      ]
     },
     "execution_count": 50,
     "metadata": {},
     "output_type": "execute_result"
    },
    {
     "data": {
      "image/png": "[encoded data removed]",
      "text/plain": [
       "<Figure size 432x288 with 1 Axes>"
      ]
     },
     "metadata": {},
     "output_type": "display_data"
    }
   ],
   "source": [
    "# plot loss vs epoch for train and test\n",
    "epoch = [1,2,3,4,5]\n",
    "plt.plot(epoch, loss_val, label = 'Validation')\n",
    "plt.plot(epoch, loss_train, label = 'Train')\n",
    "plt.xlabel('Number of Epochs')\n",
    "plt.ylabel('Loss Score')\n",
    "plt.title('Loss')\n",
    "plt.legend()"
   ]
  },
  {
   "cell_type": "code",
   "execution_count": 51,
   "metadata": {},
   "outputs": [
    {
     "data": {
      "text/plain": [
       "<matplotlib.legend.Legend at 0x1aa32398d0>"
      ]
     },
     "execution_count": 51,
     "metadata": {},
     "output_type": "execute_result"
    },
    {
     "data": {
      "image/png": "[encoded data removed]",
      "text/plain": [
       "<Figure size 432x288 with 1 Axes>"
      ]
     },
     "metadata": {},
     "output_type": "display_data"
    }
   ],
   "source": [
    "# plot accuracy vs epoch for train and test\n",
    "plt.plot(epoch, acc_val, label = 'Validation')\n",
    "plt.plot(epoch, acc_train, label = 'Train')\n",
    "plt.xlabel('Number of Epochs')\n",
    "plt.ylabel('Accuracy Score')\n",
    "plt.title('Accuracy')\n",
    "plt.legend()"
   ]
  }
 ],
 "metadata": {
  "kernelspec": {
   "display_name": "Python 3",
   "language": "python",
   "name": "python3"
  },
  "language_info": {
   "codemirror_mode": {
    "name": "ipython",
    "version": 3
   },
   "file_extension": ".py",
   "mimetype": "text/x-python",
   "name": "python",
   "nbconvert_exporter": "python",
   "pygments_lexer": "ipython3",
   "version": "3.7.3"
  }
 },
 "nbformat": 4,
 "nbformat_minor": 2
}
