{
 "cells": [
  {
   "cell_type": "code",
   "execution_count": 114,
   "metadata": {},
   "outputs": [],
   "source": [
    "%matplotlib inline\n",
    "import numpy as np\n",
    "import matplotlib.cm as cm\n",
    "import matplotlib.pyplot as plt\n",
    "import pandas as pd\n",
    "pd.set_option('display.width', 500)\n",
    "pd.set_option('display.max_columns', 100)\n",
    "pd.set_option('display.notebook_repr_html', True)\n",
    "import seaborn as sns\n",
    "from functools import reduce\n",
    "import string\n",
    "import pickle\n",
    "import tensorflow as tf\n",
    "from tensorflow import keras\n",
    "from tensorflow.keras.layers import Input, Embedding, Dot, Reshape, Dense, Concatenate\n",
    "from tensorflow.keras.models import Model\n",
    "from sklearn.model_selection import train_test_split\n",
    "import spotipy\n",
    "import spotipy.util as util\n",
    "from spotipy.oauth2 import SpotifyClientCredentials\n",
    "import spotipy.oauth2 as oauth2\n",
    "from tensorflow.keras.models import model_from_json\n",
    "np.random.seed(100)\n",
    "import random\n",
    "\n",
    "\n",
    "market = [ \"AD\", \"AR\", \"AT\", \"AU\", \"BE\", \"BG\", \"BO\", \"BR\", \"CA\", \"CH\", \"CL\", \"CO\", \"CR\", \"CY\", \n",
    "      \"CZ\", \"DE\", \"DK\", \"DO\", \"EC\", \"EE\", \"ES\", \"FI\", \"FR\", \"GB\", \"GR\", \"GT\", \"HK\", \"HN\", \"HU\", \n",
    "      \"ID\", \"IE\", \"IS\", \"IT\", \"JP\", \"LI\", \"LT\", \"LU\", \"LV\", \"MC\", \"MT\", \"MX\", \"MY\", \"NI\", \"NL\", \n",
    "      \"NO\", \"NZ\", \"PA\", \"PE\", \"PH\", \"PL\", \"PT\", \"PY\", \"SE\", \"SG\", \"SK\", \"SV\", \"TH\", \"TR\", \"TW\", \n",
    "      \"US\", \"UY\", \"VN\" ]\n",
    "\n",
    "CLIENT_ID = \"bccb28dd24804ecc912efc88806eba38\"\n",
    "CLIENT_SECRET = \"e795231413554786934e6a6209106e8d\"\n",
    "\n",
    "credentials = oauth2.SpotifyClientCredentials(\n",
    "        client_id=CLIENT_ID,\n",
    "        client_secret=CLIENT_SECRET)\n",
    "\n",
    "token = credentials.get_access_token()\n",
    "spotify = spotipy.Spotify(auth=token)"
   ]
  },
  {
   "cell_type": "code",
   "execution_count": 115,
   "metadata": {},
   "outputs": [],
   "source": [
    "import pickle\n",
    "with open('playlists.pickle', 'rb') as f:\n",
    "    playlists = pickle.load(f)"
   ]
  },
  {
   "cell_type": "code",
   "execution_count": 116,
   "metadata": {},
   "outputs": [],
   "source": [
    "all_songs = pd.DataFrame()\n",
    "for i, group in enumerate(playlists):\n",
    "    group['group_id'] = i\n",
    "all_songs = pd.concat(playlists)\n",
    "all_songs\n",
    "all_songs['pid']\n",
    "all_songs['group_id']\n",
    "all_songs['unique_id'] = 1000*all_songs['group_id'] + all_songs['pid']\n",
    "all_songs['playlist_id'] = all_songs['unique_id']\n"
   ]
  },
  {
   "cell_type": "code",
   "execution_count": 117,
   "metadata": {},
   "outputs": [],
   "source": [
    "just_songs = all_songs[['track_uri', 'playlist_id', 'artist_name']]\n",
    "just_songs = just_songs.loc[just_songs['playlist_id'] < 10]"
   ]
  },
  {
   "cell_type": "code",
   "execution_count": 118,
   "metadata": {},
   "outputs": [],
   "source": [
    "unique_songs = just_songs['track_uri'].unique()\n",
    "song_index = {song: idx for idx, song in enumerate(unique_songs)}\n",
    "index_song = {idx: song for song, idx in song_index.items()}"
   ]
  },
  {
   "cell_type": "code",
   "execution_count": 119,
   "metadata": {},
   "outputs": [],
   "source": [
    "unique_artists = just_songs['artist_name'].unique()\n",
    "artist_index = {artist: idx for idx, artist in enumerate(unique_artists)}\n",
    "index_artist = {idx: artist for artist, idx in artist_index.items()}"
   ]
  },
  {
   "cell_type": "code",
   "execution_count": 120,
   "metadata": {},
   "outputs": [
    {
     "data": {
      "text/html": [
       "<div>\n",
       "<style scoped>\n",
       "    .dataframe tbody tr th:only-of-type {\n",
       "        vertical-align: middle;\n",
       "    }\n",
       "\n",
       "    .dataframe tbody tr th {\n",
       "        vertical-align: top;\n",
       "    }\n",
       "\n",
       "    .dataframe thead th {\n",
       "        text-align: right;\n",
       "    }\n",
       "</style>\n",
       "<table border=\"1\" class=\"dataframe\">\n",
       "  <thead>\n",
       "    <tr style=\"text-align: right;\">\n",
       "      <th></th>\n",
       "      <th>track_uri</th>\n",
       "      <th>playlist_id</th>\n",
       "      <th>artist_name</th>\n",
       "      <th>song_index</th>\n",
       "      <th>artist_index</th>\n",
       "    </tr>\n",
       "  </thead>\n",
       "  <tbody>\n",
       "    <tr>\n",
       "      <th>0</th>\n",
       "      <td>spotify:track:0UaMYEvWZi0ZqiDOoHU3YI</td>\n",
       "      <td>0</td>\n",
       "      <td>Missy Elliott</td>\n",
       "      <td>0</td>\n",
       "      <td>0</td>\n",
       "    </tr>\n",
       "    <tr>\n",
       "      <th>1</th>\n",
       "      <td>spotify:track:6I9VzXrHxO9rA9A5euc8Ak</td>\n",
       "      <td>0</td>\n",
       "      <td>Britney Spears</td>\n",
       "      <td>1</td>\n",
       "      <td>1</td>\n",
       "    </tr>\n",
       "    <tr>\n",
       "      <th>2</th>\n",
       "      <td>spotify:track:0WqIKmW4BTrj3eJFmnCKMv</td>\n",
       "      <td>0</td>\n",
       "      <td>Beyoncé</td>\n",
       "      <td>2</td>\n",
       "      <td>2</td>\n",
       "    </tr>\n",
       "    <tr>\n",
       "      <th>3</th>\n",
       "      <td>spotify:track:1AWQoqb9bSvzTjaLralEkT</td>\n",
       "      <td>0</td>\n",
       "      <td>Justin Timberlake</td>\n",
       "      <td>3</td>\n",
       "      <td>3</td>\n",
       "    </tr>\n",
       "    <tr>\n",
       "      <th>4</th>\n",
       "      <td>spotify:track:1lzr43nnXAijIGYnCT8M8H</td>\n",
       "      <td>0</td>\n",
       "      <td>Shaggy</td>\n",
       "      <td>4</td>\n",
       "      <td>4</td>\n",
       "    </tr>\n",
       "  </tbody>\n",
       "</table>\n",
       "</div>"
      ],
      "text/plain": [
       "                              track_uri  playlist_id        artist_name  song_index  artist_index\n",
       "0  spotify:track:0UaMYEvWZi0ZqiDOoHU3YI            0      Missy Elliott           0             0\n",
       "1  spotify:track:6I9VzXrHxO9rA9A5euc8Ak            0     Britney Spears           1             1\n",
       "2  spotify:track:0WqIKmW4BTrj3eJFmnCKMv            0            Beyoncé           2             2\n",
       "3  spotify:track:1AWQoqb9bSvzTjaLralEkT            0  Justin Timberlake           3             3\n",
       "4  spotify:track:1lzr43nnXAijIGYnCT8M8H            0             Shaggy           4             4"
      ]
     },
     "execution_count": 120,
     "metadata": {},
     "output_type": "execute_result"
    }
   ],
   "source": [
    "just_songs['song_index'] = [song_index[song] for song in just_songs['track_uri']]\n",
    "just_songs['artist_index'] = [artist_index[artist] for artist in just_songs['artist_name']]\n",
    "just_songs.head()"
   ]
  },
  {
   "cell_type": "code",
   "execution_count": 72,
   "metadata": {},
   "outputs": [],
   "source": [
    "uris = [track[14:] for track in unique_songs]\n",
    "n = 100\n",
    "batches = [uris[i * n:(i + 1) * n] for i in range((len(uris) + n - 1) // n )]\n",
    "infos = []\n",
    "for batch in batches:\n",
    "    infos.append(spotify.audio_features(batch))"
   ]
  },
  {
   "cell_type": "code",
   "execution_count": 73,
   "metadata": {},
   "outputs": [],
   "source": [
    "with open('infos.pickle', 'wb') as f:\n",
    "    pickle.dump(infos, f)\n",
    "\n",
    "# for 1000 playlists (34443 unique songs)\n",
    "with open('infos.pickle', 'rb') as f:\n",
    "    infos = pickle.load(f)\n",
    "infos = [j for i in infos for j in i]\n"
   ]
  },
  {
   "cell_type": "code",
   "execution_count": 74,
   "metadata": {},
   "outputs": [
    {
     "data": {
      "text/plain": [
       "503"
      ]
     },
     "execution_count": 74,
     "metadata": {},
     "output_type": "execute_result"
    }
   ],
   "source": [
    "len(unique_songs)\n",
    "len(infos)"
   ]
  },
  {
   "cell_type": "code",
   "execution_count": 113,
   "metadata": {},
   "outputs": [
    {
     "ename": "IndexError",
     "evalue": "only integers, slices (`:`), ellipsis (`...`), numpy.newaxis (`None`) and integer or boolean arrays are valid indices",
     "output_type": "error",
     "traceback": [
      "\u001b[0;31m---------------------------------------------------------------------------\u001b[0m",
      "\u001b[0;31mIndexError\u001b[0m                                Traceback (most recent call last)",
      "\u001b[0;32m<ipython-input-113-eddbd3de5633>\u001b[0m in \u001b[0;36m<module>\u001b[0;34m\u001b[0m\n\u001b[1;32m      1\u001b[0m \u001b[0mfeatures\u001b[0m \u001b[0;34m=\u001b[0m \u001b[0;34m[\u001b[0m\u001b[0;34m\"danceability\"\u001b[0m\u001b[0;34m,\u001b[0m \u001b[0;34m\"energy\"\u001b[0m\u001b[0;34m,\u001b[0m \u001b[0;34m\"acousticness\"\u001b[0m\u001b[0;34m,\u001b[0m \u001b[0;34m\"instrumentalness\"\u001b[0m\u001b[0;34m,\u001b[0m \u001b[0;34m\"valence\"\u001b[0m\u001b[0;34m,\u001b[0m \u001b[0;34m\"speechiness\"\u001b[0m\u001b[0;34m,\u001b[0m \u001b[0;34m\"liveness\"\u001b[0m\u001b[0;34m,\u001b[0m \u001b[0;34m\"tempo\"\u001b[0m\u001b[0;34m,\u001b[0m \u001b[0;34m\"loudness\"\u001b[0m\u001b[0;34m]\u001b[0m\u001b[0;34m\u001b[0m\u001b[0;34m\u001b[0m\u001b[0m\n\u001b[1;32m      2\u001b[0m \u001b[0;32mfor\u001b[0m \u001b[0mfeature\u001b[0m \u001b[0;32min\u001b[0m \u001b[0mfeatures\u001b[0m\u001b[0;34m:\u001b[0m\u001b[0;34m\u001b[0m\u001b[0;34m\u001b[0m\u001b[0m\n\u001b[0;32m----> 3\u001b[0;31m     \u001b[0mjust_songs\u001b[0m\u001b[0;34m[\u001b[0m\u001b[0mfeature\u001b[0m\u001b[0;34m]\u001b[0m \u001b[0;34m=\u001b[0m \u001b[0;32mNone\u001b[0m\u001b[0;34m\u001b[0m\u001b[0;34m\u001b[0m\u001b[0m\n\u001b[0m\u001b[1;32m      4\u001b[0m \u001b[0;32mfor\u001b[0m \u001b[0msong\u001b[0m \u001b[0;32min\u001b[0m \u001b[0munique_songs\u001b[0m\u001b[0;34m:\u001b[0m\u001b[0;34m\u001b[0m\u001b[0;34m\u001b[0m\u001b[0m\n\u001b[1;32m      5\u001b[0m     \u001b[0;32mfor\u001b[0m \u001b[0mtrack\u001b[0m \u001b[0;32min\u001b[0m \u001b[0minfos\u001b[0m\u001b[0;34m:\u001b[0m\u001b[0;34m\u001b[0m\u001b[0;34m\u001b[0m\u001b[0m\n",
      "\u001b[0;31mIndexError\u001b[0m: only integers, slices (`:`), ellipsis (`...`), numpy.newaxis (`None`) and integer or boolean arrays are valid indices"
     ]
    }
   ],
   "source": [
    "features = [\"danceability\", \"energy\", \"acousticness\", \"instrumentalness\", \"valence\", \"speechiness\", \"liveness\", \"tempo\", \"loudness\"]\n",
    "for feature in features:\n",
    "    just_songs[feature] = None\n",
    "for song in unique_songs:\n",
    "    for track in infos:\n",
    "        if track['uri'] == song:\n",
    "            t = track\n",
    "            song_features = [track[feature] for feature in features]\n",
    "            break;\n",
    "    just_songs.loc[just_songs['track_uri'] == song, features] = song_features"
   ]
  },
  {
   "cell_type": "code",
   "execution_count": 111,
   "metadata": {},
   "outputs": [],
   "source": [
    "with open('just_songs.pickle', 'wb') as f:\n",
    "    pickle.dump(just_songs, f)\n",
    "\n",
    "with open('just_songs.pickle', 'rb') as f:\n",
    "    just_songs = pickle.load(f)"
   ]
  },
  {
   "cell_type": "code",
   "execution_count": 112,
   "metadata": {},
   "outputs": [
    {
     "ename": "AttributeError",
     "evalue": "'numpy.ndarray' object has no attribute 'columns'",
     "output_type": "error",
     "traceback": [
      "\u001b[0;31m---------------------------------------------------------------------------\u001b[0m",
      "\u001b[0;31mAttributeError\u001b[0m                            Traceback (most recent call last)",
      "\u001b[0;32m<ipython-input-112-d86c7ca7d0ff>\u001b[0m in \u001b[0;36m<module>\u001b[0;34m\u001b[0m\n\u001b[0;32m----> 1\u001b[0;31m \u001b[0mjust_songs\u001b[0m\u001b[0;34m.\u001b[0m\u001b[0mcolumns\u001b[0m\u001b[0;34m\u001b[0m\u001b[0;34m\u001b[0m\u001b[0m\n\u001b[0m",
      "\u001b[0;31mAttributeError\u001b[0m: 'numpy.ndarray' object has no attribute 'columns'"
     ]
    }
   ],
   "source": [
    "just_songs.columns"
   ]
  },
  {
   "cell_type": "code",
   "execution_count": 78,
   "metadata": {},
   "outputs": [
    {
     "data": {
      "text/plain": [
       "(503,)"
      ]
     },
     "execution_count": 78,
     "metadata": {},
     "output_type": "execute_result"
    }
   ],
   "source": [
    "unique_song_ids = just_songs['song_index'].unique()\n",
    "just_songs.shape\n",
    "unique_song_ids.shape"
   ]
  },
  {
   "cell_type": "code",
   "execution_count": 16,
   "metadata": {},
   "outputs": [],
   "source": [
    "# #pl = just_songs.loc[just_songs['song_index'] == unique_song_ids[0]]['playlist_id']\n",
    "# predictors = [\"artist_index\", \"danceability\", \"energy\", \"acousticness\", \"instrumentalness\", \"valence\", \"speechiness\", \"liveness\", \"tempo\", \"loudness\"]\n",
    "# pairs = []\n",
    "# song1_feat=[]\n",
    "\n",
    "# for j in range(len(unique_song_ids)):\n",
    "#     pl = just_songs.loc[just_songs['song_index']==unique_song_ids[j]]['playlist_id']\n",
    "#     for i in range(len(predictors)):\n",
    "#         song1_f = just_songs[just_songs['song_index'] == unique_song_ids[1]][predictors[i]].unique().item()\n",
    "#         song1_feat.append(song1_f)\n",
    "#     for p in pl:\n",
    "#         for _, song2 in just_songs.loc[just_songs['playlist_id'] == p].iterrows():\n",
    "#             song2_feat = [song2[pred] for pred in predictors]\n",
    "#             pairs.append(song1_feat + song2_feat)"
   ]
  },
  {
   "cell_type": "code",
   "execution_count": 79,
   "metadata": {},
   "outputs": [],
   "source": [
    "#took years to run this cell....\n",
    "#it also gives nans\n",
    "predictors = [\"artist_index\", \"danceability\", \"energy\", \"acousticness\", \"instrumentalness\", \"valence\", \"speechiness\", \"liveness\", \"tempo\", \"loudness\"]\n",
    "pairs = []\n",
    "for song in unique_song_ids:\n",
    "    pl = just_songs.loc[just_songs['song_index'] == song]['playlist_id']\n",
    "    song1_feat = [just_songs[just_songs['song_index'] == song][pred].unique().item() for pred in predictors]\n",
    "    for p in pl:\n",
    "        for _, song2 in just_songs.loc[just_songs['playlist_id'] == p].iterrows():\n",
    "            song2_feat = [song2[pred] for pred in predictors]\n",
    "            pairs.append(song1_feat + song2_feat)\n",
    "pairs = np.array(pairs)"
   ]
  },
  {
   "cell_type": "code",
   "execution_count": 80,
   "metadata": {},
   "outputs": [],
   "source": [
    "with open('pairs.pickle', 'wb') as f:\n",
    "    pickle.dump(pairs, f)\n",
    "\n",
    "with open('pairs.pickle', 'rb') as f:\n",
    "    pairs = pickle.load(f)"
   ]
  },
  {
   "cell_type": "code",
   "execution_count": 22,
   "metadata": {},
   "outputs": [],
   "source": [
    "pairs_set = set([tuple(i) for i in pairs[:, [0,10]]])"
   ]
  },
  {
   "cell_type": "code",
   "execution_count": 23,
   "metadata": {},
   "outputs": [],
   "source": [
    "with open('pairs_set.pickle', 'wb') as f:\n",
    "    pickle.dump(pairs_set, f)\n",
    "with open('pairs_set.pickle', 'rb') as f:\n",
    "    pairs_set = pickle.load(f)"
   ]
  },
  {
   "cell_type": "code",
   "execution_count": 24,
   "metadata": {},
   "outputs": [],
   "source": [
    "pairs_train, pairs_val = train_test_split(pairs, test_size=0.2, random_state=109)"
   ]
  },
  {
   "cell_type": "code",
   "execution_count": 45,
   "metadata": {},
   "outputs": [
    {
     "name": "stdout",
     "output_type": "stream",
     "text": [
      "(29206, 20)\n",
      "(7302, 20)\n",
      "(36508, 20)\n"
     ]
    }
   ],
   "source": [
    "print(pairs_train.shape)\n",
    "print(pairs_val.shape)\n",
    "print(pairs.shape)"
   ]
  },
  {
   "cell_type": "code",
   "execution_count": 26,
   "metadata": {},
   "outputs": [],
   "source": [
    "# why do we use twice as many negative as positive?\n",
    "def generate_batch(pairs_train, n_positive = 50, n_negative = 100):\n",
    "    predictors = [\"artist_index\", \"danceability\", \"energy\", \"acousticness\", \"instrumentalness\", \"valence\", \"speechiness\", \"liveness\", \"tempo\", \"loudness\"]\n",
    "\n",
    "    \"\"\"Generate batches of samples for training\"\"\"\n",
    "    batch_size = n_positive + n_negative\n",
    "    batch = np.zeros((batch_size, 21))\n",
    "        \n",
    "    # This creates a generator\n",
    "    while True:\n",
    "        # randomly choose positive examples\n",
    "        for idx, pair in zip(range(n_positive), pairs_train[np.random.randint(pairs_train.shape[0], size=n_positive), :]):\n",
    "            batch[idx, :] = np.append(pair, 1)\n",
    "        # Increment idx by 1\n",
    "        idx += 1\n",
    "        \n",
    "        # Add negative examples until reach batch size\n",
    "        while idx < batch_size:\n",
    "            \n",
    "            # random selection\n",
    "            song1 = random.randrange(len(unique_song_ids))\n",
    "            song2 = random.randrange(len(unique_song_ids))\n",
    "            \n",
    "            # Check to make sure this is not a positive example\n",
    "            if (song1, song2) not in pairs_set:\n",
    "                \n",
    "                song1_feat = [just_songs[just_songs['song_index'] == song1][pred].unique().item() for pred in predictors]\n",
    "                song2_feat = [just_songs[just_songs['song_index'] == song2][pred].unique().item() for pred in predictors]\n",
    "                \n",
    "                # Add to batch and increment index\n",
    "                batch[idx, :] = np.concatenate([song1_feat, np.append(song2_feat, 0)])\n",
    "                idx += 1\n",
    "                \n",
    "        # Make sure to shuffle order\n",
    "        np.random.shuffle(batch)\n",
    "        \n",
    "        d = dict({'song1': batch[:, 0]})\n",
    "        d.update({feat + '1': batch[:, i+1] for i, feat in enumerate(predictors)})\n",
    "        d.update({'song2': batch[:, 10]})\n",
    "        d.update({feat + '2': batch[:, i+10] for i, feat in enumerate(predictors)})\n",
    "\n",
    "        \n",
    "        yield  d, batch[:, 20]"
   ]
  },
  {
   "cell_type": "code",
   "execution_count": 27,
   "metadata": {},
   "outputs": [
    {
     "data": {
      "text/plain": [
       "({'song1': array([ 94., 127., 188.]),\n",
       "  'artist_index1': array([0.361, 0.429, 0.734]),\n",
       "  'danceability1': array([0.392, 0.816, 0.581]),\n",
       "  'energy1': array([0.774, 0.313, 0.24 ]),\n",
       "  'acousticness1': array([0.145   , 0.0255  , 0.000585]),\n",
       "  'instrumentalness1': array([0.238, 0.436, 0.962]),\n",
       "  'valence1': array([0.0312, 0.0458, 0.032 ]),\n",
       "  'speechiness1': array([0.107 , 0.114 , 0.0298]),\n",
       "  'liveness1': array([130.662, 140.595, 119.337]),\n",
       "  'tempo1': array([-11.679,  -7.756,  -6.619]),\n",
       "  'loudness1': array([122.,   7., 176.]),\n",
       "  'song2': array([122.,   7., 176.]),\n",
       "  'artist_index2': array([122.,   7., 176.]),\n",
       "  'danceability2': array([0.35 , 0.771, 0.378]),\n",
       "  'energy2': array([0.1  , 0.685, 0.896]),\n",
       "  'acousticness2': array([9.89e-01, 5.43e-03, 4.52e-04]),\n",
       "  'instrumentalness2': array([0.545  , 0.00157, 0.     ]),\n",
       "  'valence2': array([0.135, 0.683, 0.469]),\n",
       "  'speechiness2': array([0.0328, 0.0567, 0.0407]),\n",
       "  'liveness2': array([0.11  , 0.0537, 0.194 ]),\n",
       "  'tempo2': array([108.74 ,  88.997, 174.302]),\n",
       "  'loudness2': array([-18.491,  -4.639,  -4.066])},\n",
       " array([1., 0., 1.]))"
      ]
     },
     "execution_count": 27,
     "metadata": {},
     "output_type": "execute_result"
    }
   ],
   "source": [
    "next(generate_batch(pairs_train, n_positive = 2, n_negative = 1))"
   ]
  },
  {
   "cell_type": "code",
   "execution_count": 55,
   "metadata": {},
   "outputs": [
    {
     "name": "stdout",
     "output_type": "stream",
     "text": [
      "Model: \"model_4\"\n",
      "__________________________________________________________________________________________________\n",
      "Layer (type)                    Output Shape         Param #     Connected to                     \n",
      "==================================================================================================\n",
      "song1 (InputLayer)              [(None, 1)]          0                                            \n",
      "__________________________________________________________________________________________________\n",
      "song2 (InputLayer)              [(None, 1)]          0                                            \n",
      "__________________________________________________________________________________________________\n",
      "artist_index1 (InputLayer)      [(None, 1)]          0                                            \n",
      "__________________________________________________________________________________________________\n",
      "artist_index2 (InputLayer)      [(None, 1)]          0                                            \n",
      "__________________________________________________________________________________________________\n",
      "song1_embedding (Embedding)     (None, 1, 50)        25150       song1[0][0]                      \n",
      "__________________________________________________________________________________________________\n",
      "song2_embedding (Embedding)     (None, 1, 50)        25150       song2[0][0]                      \n",
      "__________________________________________________________________________________________________\n",
      "artist1_embedding (Embedding)   (None, 1, 50)        16800       artist_index1[0][0]              \n",
      "__________________________________________________________________________________________________\n",
      "artist2_embedding (Embedding)   (None, 1, 50)        16800       artist_index2[0][0]              \n",
      "__________________________________________________________________________________________________\n",
      "dot_product_song (Dot)          (None, 1, 1)         0           song1_embedding[0][0]            \n",
      "                                                                 song2_embedding[0][0]            \n",
      "__________________________________________________________________________________________________\n",
      "dot_product_artist (Dot)        (None, 1, 1)         0           artist1_embedding[0][0]          \n",
      "                                                                 artist2_embedding[0][0]          \n",
      "__________________________________________________________________________________________________\n",
      "reshape_8 (Reshape)             (None, 1)            0           dot_product_song[0][0]           \n",
      "__________________________________________________________________________________________________\n",
      "reshape_9 (Reshape)             (None, 1)            0           dot_product_artist[0][0]         \n",
      "__________________________________________________________________________________________________\n",
      "danceability1 (InputLayer)      [(None, 1)]          0                                            \n",
      "__________________________________________________________________________________________________\n",
      "danceability2 (InputLayer)      [(None, 1)]          0                                            \n",
      "__________________________________________________________________________________________________\n",
      "energy1 (InputLayer)            [(None, 1)]          0                                            \n",
      "__________________________________________________________________________________________________\n",
      "energy2 (InputLayer)            [(None, 1)]          0                                            \n",
      "__________________________________________________________________________________________________\n",
      "acousticness1 (InputLayer)      [(None, 1)]          0                                            \n",
      "__________________________________________________________________________________________________\n",
      "acousticness2 (InputLayer)      [(None, 1)]          0                                            \n",
      "__________________________________________________________________________________________________\n",
      "instrumentalness1 (InputLayer)  [(None, 1)]          0                                            \n",
      "__________________________________________________________________________________________________\n",
      "instrumentalness2 (InputLayer)  [(None, 1)]          0                                            \n",
      "__________________________________________________________________________________________________\n",
      "valence1 (InputLayer)           [(None, 1)]          0                                            \n",
      "__________________________________________________________________________________________________\n",
      "valence2 (InputLayer)           [(None, 1)]          0                                            \n",
      "__________________________________________________________________________________________________\n",
      "speechiness1 (InputLayer)       [(None, 1)]          0                                            \n",
      "__________________________________________________________________________________________________\n",
      "speechiness2 (InputLayer)       [(None, 1)]          0                                            \n",
      "__________________________________________________________________________________________________\n",
      "liveness1 (InputLayer)          [(None, 1)]          0                                            \n",
      "__________________________________________________________________________________________________\n",
      "liveness2 (InputLayer)          [(None, 1)]          0                                            \n",
      "__________________________________________________________________________________________________\n",
      "tempo1 (InputLayer)             [(None, 1)]          0                                            \n",
      "__________________________________________________________________________________________________\n",
      "tempo2 (InputLayer)             [(None, 1)]          0                                            \n",
      "__________________________________________________________________________________________________\n",
      "loudness1 (InputLayer)          [(None, 1)]          0                                            \n",
      "__________________________________________________________________________________________________\n",
      "loudness2 (InputLayer)          [(None, 1)]          0                                            \n",
      "__________________________________________________________________________________________________\n",
      "concatenate_4 (Concatenate)     (None, 20)           0           reshape_8[0][0]                  \n",
      "                                                                 reshape_9[0][0]                  \n",
      "                                                                 danceability1[0][0]              \n",
      "                                                                 danceability2[0][0]              \n",
      "                                                                 energy1[0][0]                    \n",
      "                                                                 energy2[0][0]                    \n",
      "                                                                 acousticness1[0][0]              \n",
      "                                                                 acousticness2[0][0]              \n",
      "                                                                 instrumentalness1[0][0]          \n",
      "                                                                 instrumentalness2[0][0]          \n",
      "                                                                 valence1[0][0]                   \n",
      "                                                                 valence2[0][0]                   \n",
      "                                                                 speechiness1[0][0]               \n",
      "                                                                 speechiness2[0][0]               \n",
      "                                                                 liveness1[0][0]                  \n",
      "                                                                 liveness2[0][0]                  \n",
      "                                                                 tempo1[0][0]                     \n",
      "                                                                 tempo2[0][0]                     \n",
      "                                                                 loudness1[0][0]                  \n",
      "                                                                 loudness2[0][0]                  \n",
      "__________________________________________________________________________________________________\n",
      "dense_4 (Dense)                 (None, 1)            21          concatenate_4[0][0]              \n",
      "==================================================================================================\n",
      "Total params: 83,921\n",
      "Trainable params: 83,921\n",
      "Non-trainable params: 0\n",
      "__________________________________________________________________________________________________\n"
     ]
    }
   ],
   "source": [
    "def song_embedding_model(embedding_size = 50):\n",
    "    \n",
    "    # All inputs are 1-dimensional\n",
    "    song1 = Input(name = 'song1', shape = [1])\n",
    "    song2 = Input(name = 'song2', shape = [1])\n",
    "    artist1 = Input(name = 'artist_index1', shape = [1])\n",
    "    artist2 = Input(name = 'artist_index2', shape = [1])\n",
    "    danceability1 = Input(name = 'danceability1', shape = [1])\n",
    "    danceability2 = Input(name = 'danceability2', shape = [1])\n",
    "    energy1 = Input(name = 'energy1', shape = [1])\n",
    "    energy2 = Input(name = 'energy2', shape = [1])\n",
    "    acousticness1 = Input(name = 'acousticness1', shape = [1])\n",
    "    acousticness2 = Input(name = 'acousticness2', shape = [1])\n",
    "    instrumentalness1 = Input(name = 'instrumentalness1', shape = [1])\n",
    "    instrumentalness2 = Input(name = 'instrumentalness2', shape = [1])\n",
    "    valence1 = Input(name = 'valence1', shape = [1])\n",
    "    valence2 = Input(name = 'valence2', shape = [1])\n",
    "    speechiness1 = Input(name = 'speechiness1', shape = [1])\n",
    "    speechiness2 = Input(name = 'speechiness2', shape = [1])\n",
    "    liveness1 = Input(name = 'liveness1', shape = [1])\n",
    "    liveness2 = Input(name = 'liveness2', shape = [1])\n",
    "    tempo1 = Input(name = 'tempo1', shape = [1])\n",
    "    tempo2 = Input(name = 'tempo2', shape = [1])\n",
    "    loudness1 = Input(name= 'loudness1', shape = [1])\n",
    "    loudness2 = Input(name= 'loudness2', shape = [1])\n",
    "   # predictors1 = Input(name = 'predictors1', shape = [8])\n",
    "   # predictors2 = Input(name = 'predictors2', shape = [8])\n",
    " \n",
    "    # Embedding song1 (shape will be (None, 1, 50))\n",
    "    song1_embedding = Embedding(name = 'song1_embedding',\n",
    "                               input_dim = len(song_index),\n",
    "                               output_dim = embedding_size)(song1)\n",
    "    \n",
    "    # Embedding song2 (shape will be (None, 1, 50))\n",
    "    song2_embedding = Embedding(name = 'song2_embedding',\n",
    "                               input_dim = len(song_index),\n",
    "                               output_dim = embedding_size)(song2)\n",
    "    \n",
    "    # Embedding the artist1 (shape will be (None, 1, 50))\n",
    "    artist1_embedding = Embedding(name = 'artist1_embedding',\n",
    "                               input_dim = len(artist_index),\n",
    "                               output_dim = embedding_size)(artist1)\n",
    "    \n",
    "    # Embedding the artist2 (shape will be (None, 1, 50))\n",
    "    artist2_embedding = Embedding(name = 'artist2_embedding',\n",
    "                               input_dim = len(artist_index),\n",
    "                               output_dim = embedding_size)(artist2)\n",
    "        \n",
    "\n",
    "    # Merge the layers with a dot product along the second axis (shape will be (None, 1, 1))\n",
    "    merged_song = Dot(name = 'dot_product_song', normalize = True, axes = 2)([song1_embedding, song2_embedding])\n",
    "\n",
    "    # Reshape to be a single number (shape will be (None, 1))\n",
    "    merged_song = Reshape(target_shape = [1])(merged_song)\n",
    "    \n",
    "    merged_artist = Dot(name = 'dot_product_artist', normalize = True, axes = 2)([artist1_embedding, artist2_embedding])\n",
    "    \n",
    "    # Reshape to be a single number (shape will be (None, 1))\n",
    "    merged_artist = Reshape(target_shape = [1])(merged_artist)\n",
    "     \n",
    "    #concatenate = Concatenate()([merged_song, merged_artist, predictors1, predictors2])\n",
    "    concatenate = Concatenate()([merged_song, merged_artist, danceability1, danceability2, energy1,energy2,\n",
    "                                 acousticness1, acousticness2, instrumentalness1, instrumentalness2, valence1, \n",
    "                                valence2, speechiness1, speechiness2, liveness1, liveness2, tempo1, tempo2, \n",
    "                                loudness1, loudness2])\n",
    "    output = Dense(1, activation = 'sigmoid')(concatenate)\n",
    "\n",
    "\n",
    "\n",
    "    \n",
    "    model = Model(inputs = [song1, song2, artist1, artist2,  danceability1, danceability2, energy1,energy2,\n",
    "                                 acousticness1, acousticness2, instrumentalness1, instrumentalness2, valence1, \n",
    "                                valence2, speechiness1, speechiness2, liveness1, liveness2, tempo1, tempo2, \n",
    "                                loudness1, loudness2], outputs = output)\n",
    "    model.compile(optimizer = 'Adam', loss = 'binary_crossentropy', metrics = ['accuracy'])\n",
    "        \n",
    "    return model\n",
    "\n",
    "# Instantiate model and show parameters\n",
    "model = song_embedding_model()\n",
    "model.summary()"
   ]
  },
  {
   "cell_type": "code",
   "execution_count": 90,
   "metadata": {},
   "outputs": [],
   "source": [
    "# we ran this in google colab gpu\n",
    "# n_positive = 10\n",
    "# n_negative = 20\n",
    "# gen = generate_batch(pairs_train, n_positive, n_negative)\n",
    "# gen_val = generate_batch(pairs_val, n_positive, n_negative)\n",
    "# # Train\n",
    "# h = model.fit_generator(gen, epochs = 5, \n",
    "#                         steps_per_epoch = len(pairs) // n_positive, validation_data = gen_val,\n",
    "#                         verbose = 2)"
   ]
  },
  {
   "cell_type": "code",
   "execution_count": 94,
   "metadata": {},
   "outputs": [
    {
     "data": {
      "text/plain": [
       "(503, 50)"
      ]
     },
     "execution_count": 94,
     "metadata": {},
     "output_type": "execute_result"
    }
   ],
   "source": [
    "#saved model\n",
    "json_file = open('model.json', 'r')\n",
    "\n",
    "# Model reconstruction from JSON file\n",
    "with open('model.json', 'r') as f:\n",
    "    model = model_from_json(f.read())\n",
    "song1_layer = model.get_layer('song1_embedding')\n",
    "song1_weights = song1_layer.get_weights()[0]\n",
    "song1_weights.shape"
   ]
  },
  {
   "cell_type": "code",
   "execution_count": 84,
   "metadata": {},
   "outputs": [],
   "source": [
    "#saved song weights\n",
    "with open('song1_weights.pickle', 'rb') as f:\n",
    "    song1_weights = pickle.load(f)"
   ]
  },
  {
   "cell_type": "code",
   "execution_count": 85,
   "metadata": {},
   "outputs": [
    {
     "data": {
      "text/plain": [
       "0.9999998"
      ]
     },
     "execution_count": 85,
     "metadata": {},
     "output_type": "execute_result"
    }
   ],
   "source": [
    "song1_weights = song1_weights / np.linalg.norm(song1_weights, axis = 1).reshape((-1, 1))\n",
    "song1_weights[0][:10]\n",
    "np.sum(np.square(song1_weights[0]))"
   ]
  },
  {
   "cell_type": "code",
   "execution_count": 86,
   "metadata": {},
   "outputs": [],
   "source": [
    "import pandas as pd\n",
    "import matplotlib.pyplot as plt\n",
    "%matplotlib inline\n",
    "plt.style.use('fivethirtyeight')\n",
    "plt.rcParams['font.size'] = 15\n",
    "\n",
    "def find_similar(name, weights, index_name = 'song', n = 10, least = False, return_dist = False, plot = False):\n",
    "    \"\"\"Find n most similar items (or least) to name based on embeddings. Option to also plot the results\"\"\"\n",
    "    \n",
    "    # Select index and reverse index\n",
    "    if index_name == 'song':\n",
    "        index = song_index\n",
    "        rindex = index_song\n",
    "    elif index_name == 'song2':\n",
    "        index = song_index\n",
    "        rindex = index_song\n",
    "    \n",
    "    # Check to make sure `name` is in index\n",
    "    try:\n",
    "        # Calculate dot product between book and all others\n",
    "        dists = np.dot(weights, weights[index[name]])\n",
    "    except KeyError:\n",
    "        print(f'{name} Not Found.')\n",
    "        return\n",
    "    \n",
    "    # Sort distance indexes from smallest to largest\n",
    "    sorted_dists = np.argsort(dists)\n",
    "    \n",
    "    # Plot results if specified\n",
    "    if plot:\n",
    "        \n",
    "        # Find furthest and closest items\n",
    "        furthest = sorted_dists[:(n // 2)]\n",
    "        closest = sorted_dists[-n-1: len(dists) - 1]\n",
    "        items = [rindex[c] for c in furthest]\n",
    "        items.extend(rindex[c] for c in closest)\n",
    "        \n",
    "        # Find furthest and closets distances\n",
    "        distances = [dists[c] for c in furthest]\n",
    "        distances.extend(dists[c] for c in closest)\n",
    "        \n",
    "        colors = ['r' for _ in range(n //2)]\n",
    "        colors.extend('g' for _ in range(n))\n",
    "        \n",
    "        data = pd.DataFrame({'distance': distances}, index = items)\n",
    "        \n",
    "        # Horizontal bar chart\n",
    "        data['distance'].plot.barh(color = colors, figsize = (10, 8),\n",
    "                                   edgecolor = 'k', linewidth = 2)\n",
    "        plt.xlabel('Cosine Similarity');\n",
    "        plt.axvline(x = 0, color = 'k');\n",
    "        \n",
    "        # Formatting for italicized title\n",
    "        name_str = f'{index_name.capitalize()}s Most and Least Similar to'\n",
    "        for word in name.split():\n",
    "            # Title uses latex for italize\n",
    "            name_str += ' $\\it{' + word + '}$'\n",
    "        plt.title(name_str, x = 0.2, size = 28, y = 1.05)\n",
    "        \n",
    "        return None\n",
    "    \n",
    "    # If specified, find the least similar\n",
    "    if least:\n",
    "        # Take the first n from sorted distances\n",
    "        closest = sorted_dists[:n]\n",
    "         \n",
    "        print(f'{index_name.capitalize()}s furthest from {name}.\\n')\n",
    "        \n",
    "    # Otherwise find the most similar\n",
    "    else:\n",
    "        # Take the last n sorted distances\n",
    "        closest = sorted_dists[-n:]\n",
    "        \n",
    "        # Need distances later on\n",
    "        if return_dist:\n",
    "            return dists, closest\n",
    "        \n",
    "        \n",
    "        #print(f'{index_name.capitalize()}s closest to {name}.\\n')\n",
    "        \n",
    "    # Need distances later on\n",
    "    if return_dist:\n",
    "        return dists, closest\n",
    "    \n",
    "    \n",
    "    # Print formatting\n",
    "    max_width = max([len(rindex[c]) for c in closest])\n",
    "    song_name = []\n",
    "    similarity = []\n",
    "    # Print the most similar and distances\n",
    "    for c in reversed(closest):\n",
    "        song_name.append(rindex[c])\n",
    "        similarity.append(dists[c])\n",
    "      #  print(f'{index_name.capitalize()}: {rindex[c]:{max_width + 2}} Similarity: {dists[c]:.{2}}')\n",
    "    return song_name, similarity"
   ]
  },
  {
   "cell_type": "code",
   "execution_count": 87,
   "metadata": {},
   "outputs": [],
   "source": [
    "song_uri_list, similarity_list = find_similar('spotify:track:6I9VzXrHxO9rA9A5euc8Ak', song1_weights)\n",
    "unique_song_list = []\n",
    "for song in song_uri_list: \n",
    "    unique_song_list.append(all_songs.track_name.loc[all_songs.track_uri == song].drop_duplicates(\n",
    "        keep='first').tolist())"
   ]
  },
  {
   "cell_type": "code",
   "execution_count": 88,
   "metadata": {},
   "outputs": [],
   "source": [
    "similar_song_list = [item for sublist in unique_song_list for item in sublist]\n",
    "song_df = pd.DataFrame({'Similarity': similarity_list})\n",
    "song_df['Suggested Song'] = similar_song_list\n",
    "#song_df = pd.DataFrame([[similarity_list]], columns = ['Similarity'])"
   ]
  },
  {
   "cell_type": "code",
   "execution_count": 89,
   "metadata": {},
   "outputs": [
    {
     "data": {
      "text/html": [
       "<div>\n",
       "<style scoped>\n",
       "    .dataframe tbody tr th:only-of-type {\n",
       "        vertical-align: middle;\n",
       "    }\n",
       "\n",
       "    .dataframe tbody tr th {\n",
       "        vertical-align: top;\n",
       "    }\n",
       "\n",
       "    .dataframe thead th {\n",
       "        text-align: right;\n",
       "    }\n",
       "</style>\n",
       "<table border=\"1\" class=\"dataframe\">\n",
       "  <thead>\n",
       "    <tr style=\"text-align: right;\">\n",
       "      <th></th>\n",
       "      <th>Similarity</th>\n",
       "      <th>Suggested Song</th>\n",
       "    </tr>\n",
       "  </thead>\n",
       "  <tbody>\n",
       "    <tr>\n",
       "      <th>0</th>\n",
       "      <td>1.000000</td>\n",
       "      <td>Toxic</td>\n",
       "    </tr>\n",
       "    <tr>\n",
       "      <th>1</th>\n",
       "      <td>0.949364</td>\n",
       "      <td>Buttons</td>\n",
       "    </tr>\n",
       "    <tr>\n",
       "      <th>2</th>\n",
       "      <td>0.948898</td>\n",
       "      <td>Jumpin', Jumpin'</td>\n",
       "    </tr>\n",
       "    <tr>\n",
       "      <th>3</th>\n",
       "      <td>0.948502</td>\n",
       "      <td>Year 3000</td>\n",
       "    </tr>\n",
       "    <tr>\n",
       "      <th>4</th>\n",
       "      <td>0.944994</td>\n",
       "      <td>Right Where You Want Me - Radio Edit Version</td>\n",
       "    </tr>\n",
       "    <tr>\n",
       "      <th>5</th>\n",
       "      <td>0.940854</td>\n",
       "      <td>It Wasn't Me</td>\n",
       "    </tr>\n",
       "    <tr>\n",
       "      <th>6</th>\n",
       "      <td>0.938565</td>\n",
       "      <td>Lose Control (feat. Ciara &amp; Fat Man Scoop)</td>\n",
       "    </tr>\n",
       "    <tr>\n",
       "      <th>7</th>\n",
       "      <td>0.938363</td>\n",
       "      <td>Just The Girl</td>\n",
       "    </tr>\n",
       "    <tr>\n",
       "      <th>8</th>\n",
       "      <td>0.929404</td>\n",
       "      <td>Check On It - feat. Bun B and Slim Thug</td>\n",
       "    </tr>\n",
       "    <tr>\n",
       "      <th>9</th>\n",
       "      <td>0.925899</td>\n",
       "      <td>Beautiful Soul</td>\n",
       "    </tr>\n",
       "  </tbody>\n",
       "</table>\n",
       "</div>"
      ],
      "text/plain": [
       "   Similarity                                Suggested Song\n",
       "0    1.000000                                         Toxic\n",
       "1    0.949364                                       Buttons\n",
       "2    0.948898                              Jumpin', Jumpin'\n",
       "3    0.948502                                     Year 3000\n",
       "4    0.944994  Right Where You Want Me - Radio Edit Version\n",
       "5    0.940854                                  It Wasn't Me\n",
       "6    0.938565    Lose Control (feat. Ciara & Fat Man Scoop)\n",
       "7    0.938363                                 Just The Girl\n",
       "8    0.929404       Check On It - feat. Bun B and Slim Thug\n",
       "9    0.925899                                Beautiful Soul"
      ]
     },
     "execution_count": 89,
     "metadata": {},
     "output_type": "execute_result"
    }
   ],
   "source": [
    "song_df"
   ]
  },
  {
   "cell_type": "code",
   "execution_count": 98,
   "metadata": {},
   "outputs": [],
   "source": [
    "with open('loss_val.pickle', 'rb') as f:\n",
    "    loss_val = pickle.load(f)\n",
    "with open('loss_train.pickle', 'rb') as f:\n",
    "    loss_train = pickle.load(f)\n",
    "with open('accuracy_val.pickle', 'rb') as f:\n",
    "    acc_val = pickle.load(f)\n",
    "with open('accuracy_train.pickle', 'rb') as f:\n",
    "    acc_train = pickle.load(f)"
   ]
  },
  {
   "cell_type": "code",
   "execution_count": 108,
   "metadata": {},
   "outputs": [
    {
     "data": {
      "text/plain": [
       "<matplotlib.legend.Legend at 0x1a491249b0>"
      ]
     },
     "execution_count": 108,
     "metadata": {},
     "output_type": "execute_result"
    },
    {
     "data": {
      "image/png": "[encoded data removed]",
      "text/plain": [
       "<Figure size 432x288 with 1 Axes>"
      ]
     },
     "metadata": {},
     "output_type": "display_data"
    }
   ],
   "source": [
    "epoch = [1,2,3,4,5]\n",
    "plt.plot(epoch, loss_val, label = 'Validation')\n",
    "plt.plot(epoch, loss_train, label = 'Train')\n",
    "plt.xlabel('Number of Epochs')\n",
    "plt.ylabel('Loss Score')\n",
    "plt.title('Loss')\n",
    "plt.legend()"
   ]
  },
  {
   "cell_type": "code",
   "execution_count": 107,
   "metadata": {},
   "outputs": [
    {
     "data": {
      "text/plain": [
       "<matplotlib.legend.Legend at 0x1b3e7fdef0>"
      ]
     },
     "execution_count": 107,
     "metadata": {},
     "output_type": "execute_result"
    },
    {
     "data": {
      "image/png": "[encoded data removed]",
      "text/plain": [
       "<Figure size 432x288 with 1 Axes>"
      ]
     },
     "metadata": {},
     "output_type": "display_data"
    }
   ],
   "source": [
    "plt.plot(epoch, acc_val, label = 'Validation')\n",
    "plt.plot(epoch, acc_train, label = 'Train')\n",
    "plt.xlabel('Number of Epochs')\n",
    "plt.ylabel('Accuracy Score')\n",
    "plt.title('Accuracy')\n",
    "plt.legend()"
   ]
  },
  {
   "cell_type": "code",
   "execution_count": 123,
   "metadata": {},
   "outputs": [],
   "source": [
    "#choose random song and choose the next closest song to whatever\n",
    "import itertools as iter\n",
    "df2 = just_songs.groupby('playlist_id').track_uri.apply(lambda x: list(iter.combinations(x, 2)))"
   ]
  },
  {
   "cell_type": "code",
   "execution_count": 126,
   "metadata": {},
   "outputs": [
    {
     "data": {
      "text/plain": [
       "playlist_id\n",
       "0    [(spotify:track:0UaMYEvWZi0ZqiDOoHU3YI, spotif...\n",
       "1    [(spotify:track:2HHtWyy5CgaQbC7XSoOb0e, spotif...\n",
       "2    [(spotify:track:74tqql9zP6JjF5hjkHHUXp, spotif...\n",
       "3    [(spotify:track:4WJ7UMD4i6DOPzyXU5pZSz, spotif...\n",
       "4    [(spotify:track:4iCGSi1RonREsPtfEKYj5b, spotif...\n",
       "Name: track_uri, dtype: object"
      ]
     },
     "execution_count": 126,
     "metadata": {},
     "output_type": "execute_result"
    }
   ],
   "source": [
    "# for each playlist match every song with every other song in the playlist\n",
    "# in theory we could calculate how similar the songs are\n",
    "df2.head()"
   ]
  },
  {
   "cell_type": "code",
   "execution_count": null,
   "metadata": {},
   "outputs": [],
   "source": [
    "# info = spotify.audio_features(rand_ids)\n",
    "# features = [\"danceability\", \"energy\", \"acousticness\", \"instrumentalness\", \"valence\", \"speechiness\", \"liveness\", \"tempo\", \"loudness\"]\n",
    "# fig, axs = plt.subplots(3,3, figsize = (20,20))\n",
    "# for i, ax in enumerate(axs.ravel()):\n",
    "#     ax.scatter(np.arange(0, 29), [track[features[i]] for track in info])\n",
    "#     ax.set_title(features[i])\n",
    "#     ax.set_xlabel(\"Song Index\")\n",
    "#     ax.set_ylabel('Score')\n",
    "# fig.tight_layout()"
   ]
  }
 ],
 "metadata": {
  "kernelspec": {
   "display_name": "Python 3",
   "language": "python",
   "name": "python3"
  },
  "language_info": {
   "codemirror_mode": {
    "name": "ipython",
    "version": 3
   },
   "file_extension": ".py",
   "mimetype": "text/x-python",
   "name": "python",
   "nbconvert_exporter": "python",
   "pygments_lexer": "ipython3",
   "version": "3.6.9"
  }
 },
 "nbformat": 4,
 "nbformat_minor": 2
}
